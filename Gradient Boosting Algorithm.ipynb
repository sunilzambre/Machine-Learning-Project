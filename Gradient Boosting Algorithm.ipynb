{
 "cells": [
  {
   "cell_type": "code",
   "execution_count": 1,
   "id": "9c5d964f",
   "metadata": {},
   "outputs": [],
   "source": [
    "import numpy as np\n",
    "import matplotlib.pyplot as plt"
   ]
  },
  {
   "cell_type": "code",
   "execution_count": 2,
   "id": "db292942",
   "metadata": {},
   "outputs": [],
   "source": [
    "np.random.seed(42)\n",
    "X = np.random.rand(100, 1) - 0.5\n",
    "y = 3*X[:, 0]**2 + 0.05 * np.random.randn(100)"
   ]
  },
  {
   "cell_type": "code",
   "execution_count": 3,
   "id": "7b50492e",
   "metadata": {},
   "outputs": [],
   "source": [
    "import pandas as pd"
   ]
  },
  {
   "cell_type": "code",
   "execution_count": 4,
   "id": "46b80a7d",
   "metadata": {},
   "outputs": [],
   "source": [
    "df = pd.DataFrame()"
   ]
  },
  {
   "cell_type": "code",
   "execution_count": 5,
   "id": "6fc6d5b3",
   "metadata": {},
   "outputs": [],
   "source": [
    "df['X'] = X.reshape(100)\n",
    "df['y'] = y"
   ]
  },
  {
   "cell_type": "code",
   "execution_count": 6,
   "id": "e2e07918",
   "metadata": {},
   "outputs": [
    {
     "data": {
      "text/html": [
       "<div>\n",
       "<style scoped>\n",
       "    .dataframe tbody tr th:only-of-type {\n",
       "        vertical-align: middle;\n",
       "    }\n",
       "\n",
       "    .dataframe tbody tr th {\n",
       "        vertical-align: top;\n",
       "    }\n",
       "\n",
       "    .dataframe thead th {\n",
       "        text-align: right;\n",
       "    }\n",
       "</style>\n",
       "<table border=\"1\" class=\"dataframe\">\n",
       "  <thead>\n",
       "    <tr style=\"text-align: right;\">\n",
       "      <th></th>\n",
       "      <th>X</th>\n",
       "      <th>y</th>\n",
       "    </tr>\n",
       "  </thead>\n",
       "  <tbody>\n",
       "    <tr>\n",
       "      <th>0</th>\n",
       "      <td>-0.125460</td>\n",
       "      <td>0.051573</td>\n",
       "    </tr>\n",
       "    <tr>\n",
       "      <th>1</th>\n",
       "      <td>0.450714</td>\n",
       "      <td>0.594480</td>\n",
       "    </tr>\n",
       "    <tr>\n",
       "      <th>2</th>\n",
       "      <td>0.231994</td>\n",
       "      <td>0.166052</td>\n",
       "    </tr>\n",
       "    <tr>\n",
       "      <th>3</th>\n",
       "      <td>0.098658</td>\n",
       "      <td>-0.070178</td>\n",
       "    </tr>\n",
       "    <tr>\n",
       "      <th>4</th>\n",
       "      <td>-0.343981</td>\n",
       "      <td>0.343986</td>\n",
       "    </tr>\n",
       "    <tr>\n",
       "      <th>...</th>\n",
       "      <td>...</td>\n",
       "      <td>...</td>\n",
       "    </tr>\n",
       "    <tr>\n",
       "      <th>95</th>\n",
       "      <td>-0.006204</td>\n",
       "      <td>-0.040675</td>\n",
       "    </tr>\n",
       "    <tr>\n",
       "      <th>96</th>\n",
       "      <td>0.022733</td>\n",
       "      <td>-0.002305</td>\n",
       "    </tr>\n",
       "    <tr>\n",
       "      <th>97</th>\n",
       "      <td>-0.072459</td>\n",
       "      <td>0.032809</td>\n",
       "    </tr>\n",
       "    <tr>\n",
       "      <th>98</th>\n",
       "      <td>-0.474581</td>\n",
       "      <td>0.689516</td>\n",
       "    </tr>\n",
       "    <tr>\n",
       "      <th>99</th>\n",
       "      <td>-0.392109</td>\n",
       "      <td>0.502607</td>\n",
       "    </tr>\n",
       "  </tbody>\n",
       "</table>\n",
       "<p>100 rows × 2 columns</p>\n",
       "</div>"
      ],
      "text/plain": [
       "           X         y\n",
       "0  -0.125460  0.051573\n",
       "1   0.450714  0.594480\n",
       "2   0.231994  0.166052\n",
       "3   0.098658 -0.070178\n",
       "4  -0.343981  0.343986\n",
       "..       ...       ...\n",
       "95 -0.006204 -0.040675\n",
       "96  0.022733 -0.002305\n",
       "97 -0.072459  0.032809\n",
       "98 -0.474581  0.689516\n",
       "99 -0.392109  0.502607\n",
       "\n",
       "[100 rows x 2 columns]"
      ]
     },
     "execution_count": 6,
     "metadata": {},
     "output_type": "execute_result"
    }
   ],
   "source": [
    "df"
   ]
  },
  {
   "cell_type": "code",
   "execution_count": 7,
   "id": "fffce07a",
   "metadata": {},
   "outputs": [
    {
     "data": {
      "text/plain": [
       "Text(0.5, 1.0, 'X vs Y')"
      ]
     },
     "execution_count": 7,
     "metadata": {},
     "output_type": "execute_result"
    },
    {
     "data": {
      "image/png": "[encoded data removed]",
      "text/plain": [
       "<Figure size 432x288 with 1 Axes>"
      ]
     },
     "metadata": {
      "needs_background": "light"
     },
     "output_type": "display_data"
    }
   ],
   "source": [
    "plt.scatter(df['X'],df['y'])\n",
    "plt.title('X vs Y')"
   ]
  },
  {
   "cell_type": "code",
   "execution_count": 8,
   "id": "284672de",
   "metadata": {},
   "outputs": [],
   "source": [
    "df['pred1'] = df['y'].mean()"
   ]
  },
  {
   "cell_type": "code",
   "execution_count": 9,
   "id": "056017b9",
   "metadata": {},
   "outputs": [
    {
     "data": {
      "text/html": [
       "<div>\n",
       "<style scoped>\n",
       "    .dataframe tbody tr th:only-of-type {\n",
       "        vertical-align: middle;\n",
       "    }\n",
       "\n",
       "    .dataframe tbody tr th {\n",
       "        vertical-align: top;\n",
       "    }\n",
       "\n",
       "    .dataframe thead th {\n",
       "        text-align: right;\n",
       "    }\n",
       "</style>\n",
       "<table border=\"1\" class=\"dataframe\">\n",
       "  <thead>\n",
       "    <tr style=\"text-align: right;\">\n",
       "      <th></th>\n",
       "      <th>X</th>\n",
       "      <th>y</th>\n",
       "      <th>pred1</th>\n",
       "    </tr>\n",
       "  </thead>\n",
       "  <tbody>\n",
       "    <tr>\n",
       "      <th>0</th>\n",
       "      <td>-0.125460</td>\n",
       "      <td>0.051573</td>\n",
       "      <td>0.265458</td>\n",
       "    </tr>\n",
       "    <tr>\n",
       "      <th>1</th>\n",
       "      <td>0.450714</td>\n",
       "      <td>0.594480</td>\n",
       "      <td>0.265458</td>\n",
       "    </tr>\n",
       "    <tr>\n",
       "      <th>2</th>\n",
       "      <td>0.231994</td>\n",
       "      <td>0.166052</td>\n",
       "      <td>0.265458</td>\n",
       "    </tr>\n",
       "    <tr>\n",
       "      <th>3</th>\n",
       "      <td>0.098658</td>\n",
       "      <td>-0.070178</td>\n",
       "      <td>0.265458</td>\n",
       "    </tr>\n",
       "    <tr>\n",
       "      <th>4</th>\n",
       "      <td>-0.343981</td>\n",
       "      <td>0.343986</td>\n",
       "      <td>0.265458</td>\n",
       "    </tr>\n",
       "    <tr>\n",
       "      <th>...</th>\n",
       "      <td>...</td>\n",
       "      <td>...</td>\n",
       "      <td>...</td>\n",
       "    </tr>\n",
       "    <tr>\n",
       "      <th>95</th>\n",
       "      <td>-0.006204</td>\n",
       "      <td>-0.040675</td>\n",
       "      <td>0.265458</td>\n",
       "    </tr>\n",
       "    <tr>\n",
       "      <th>96</th>\n",
       "      <td>0.022733</td>\n",
       "      <td>-0.002305</td>\n",
       "      <td>0.265458</td>\n",
       "    </tr>\n",
       "    <tr>\n",
       "      <th>97</th>\n",
       "      <td>-0.072459</td>\n",
       "      <td>0.032809</td>\n",
       "      <td>0.265458</td>\n",
       "    </tr>\n",
       "    <tr>\n",
       "      <th>98</th>\n",
       "      <td>-0.474581</td>\n",
       "      <td>0.689516</td>\n",
       "      <td>0.265458</td>\n",
       "    </tr>\n",
       "    <tr>\n",
       "      <th>99</th>\n",
       "      <td>-0.392109</td>\n",
       "      <td>0.502607</td>\n",
       "      <td>0.265458</td>\n",
       "    </tr>\n",
       "  </tbody>\n",
       "</table>\n",
       "<p>100 rows × 3 columns</p>\n",
       "</div>"
      ],
      "text/plain": [
       "           X         y     pred1\n",
       "0  -0.125460  0.051573  0.265458\n",
       "1   0.450714  0.594480  0.265458\n",
       "2   0.231994  0.166052  0.265458\n",
       "3   0.098658 -0.070178  0.265458\n",
       "4  -0.343981  0.343986  0.265458\n",
       "..       ...       ...       ...\n",
       "95 -0.006204 -0.040675  0.265458\n",
       "96  0.022733 -0.002305  0.265458\n",
       "97 -0.072459  0.032809  0.265458\n",
       "98 -0.474581  0.689516  0.265458\n",
       "99 -0.392109  0.502607  0.265458\n",
       "\n",
       "[100 rows x 3 columns]"
      ]
     },
     "execution_count": 9,
     "metadata": {},
     "output_type": "execute_result"
    }
   ],
   "source": [
    "df"
   ]
  },
  {
   "cell_type": "code",
   "execution_count": 10,
   "id": "a4a0a449",
   "metadata": {},
   "outputs": [],
   "source": [
    "df['res1'] = df['y'] - df['pred1']"
   ]
  },
  {
   "cell_type": "code",
   "execution_count": 11,
   "id": "2edf4c7e",
   "metadata": {},
   "outputs": [
    {
     "data": {
      "text/html": [
       "<div>\n",
       "<style scoped>\n",
       "    .dataframe tbody tr th:only-of-type {\n",
       "        vertical-align: middle;\n",
       "    }\n",
       "\n",
       "    .dataframe tbody tr th {\n",
       "        vertical-align: top;\n",
       "    }\n",
       "\n",
       "    .dataframe thead th {\n",
       "        text-align: right;\n",
       "    }\n",
       "</style>\n",
       "<table border=\"1\" class=\"dataframe\">\n",
       "  <thead>\n",
       "    <tr style=\"text-align: right;\">\n",
       "      <th></th>\n",
       "      <th>X</th>\n",
       "      <th>y</th>\n",
       "      <th>pred1</th>\n",
       "      <th>res1</th>\n",
       "    </tr>\n",
       "  </thead>\n",
       "  <tbody>\n",
       "    <tr>\n",
       "      <th>0</th>\n",
       "      <td>-0.125460</td>\n",
       "      <td>0.051573</td>\n",
       "      <td>0.265458</td>\n",
       "      <td>-0.213885</td>\n",
       "    </tr>\n",
       "    <tr>\n",
       "      <th>1</th>\n",
       "      <td>0.450714</td>\n",
       "      <td>0.594480</td>\n",
       "      <td>0.265458</td>\n",
       "      <td>0.329021</td>\n",
       "    </tr>\n",
       "    <tr>\n",
       "      <th>2</th>\n",
       "      <td>0.231994</td>\n",
       "      <td>0.166052</td>\n",
       "      <td>0.265458</td>\n",
       "      <td>-0.099407</td>\n",
       "    </tr>\n",
       "    <tr>\n",
       "      <th>3</th>\n",
       "      <td>0.098658</td>\n",
       "      <td>-0.070178</td>\n",
       "      <td>0.265458</td>\n",
       "      <td>-0.335636</td>\n",
       "    </tr>\n",
       "    <tr>\n",
       "      <th>4</th>\n",
       "      <td>-0.343981</td>\n",
       "      <td>0.343986</td>\n",
       "      <td>0.265458</td>\n",
       "      <td>0.078528</td>\n",
       "    </tr>\n",
       "    <tr>\n",
       "      <th>...</th>\n",
       "      <td>...</td>\n",
       "      <td>...</td>\n",
       "      <td>...</td>\n",
       "      <td>...</td>\n",
       "    </tr>\n",
       "    <tr>\n",
       "      <th>95</th>\n",
       "      <td>-0.006204</td>\n",
       "      <td>-0.040675</td>\n",
       "      <td>0.265458</td>\n",
       "      <td>-0.306133</td>\n",
       "    </tr>\n",
       "    <tr>\n",
       "      <th>96</th>\n",
       "      <td>0.022733</td>\n",
       "      <td>-0.002305</td>\n",
       "      <td>0.265458</td>\n",
       "      <td>-0.267763</td>\n",
       "    </tr>\n",
       "    <tr>\n",
       "      <th>97</th>\n",
       "      <td>-0.072459</td>\n",
       "      <td>0.032809</td>\n",
       "      <td>0.265458</td>\n",
       "      <td>-0.232650</td>\n",
       "    </tr>\n",
       "    <tr>\n",
       "      <th>98</th>\n",
       "      <td>-0.474581</td>\n",
       "      <td>0.689516</td>\n",
       "      <td>0.265458</td>\n",
       "      <td>0.424057</td>\n",
       "    </tr>\n",
       "    <tr>\n",
       "      <th>99</th>\n",
       "      <td>-0.392109</td>\n",
       "      <td>0.502607</td>\n",
       "      <td>0.265458</td>\n",
       "      <td>0.237148</td>\n",
       "    </tr>\n",
       "  </tbody>\n",
       "</table>\n",
       "<p>100 rows × 4 columns</p>\n",
       "</div>"
      ],
      "text/plain": [
       "           X         y     pred1      res1\n",
       "0  -0.125460  0.051573  0.265458 -0.213885\n",
       "1   0.450714  0.594480  0.265458  0.329021\n",
       "2   0.231994  0.166052  0.265458 -0.099407\n",
       "3   0.098658 -0.070178  0.265458 -0.335636\n",
       "4  -0.343981  0.343986  0.265458  0.078528\n",
       "..       ...       ...       ...       ...\n",
       "95 -0.006204 -0.040675  0.265458 -0.306133\n",
       "96  0.022733 -0.002305  0.265458 -0.267763\n",
       "97 -0.072459  0.032809  0.265458 -0.232650\n",
       "98 -0.474581  0.689516  0.265458  0.424057\n",
       "99 -0.392109  0.502607  0.265458  0.237148\n",
       "\n",
       "[100 rows x 4 columns]"
      ]
     },
     "execution_count": 11,
     "metadata": {},
     "output_type": "execute_result"
    }
   ],
   "source": [
    "df"
   ]
  },
  {
   "cell_type": "code",
   "execution_count": 12,
   "id": "f6c10e2a",
   "metadata": {},
   "outputs": [
    {
     "data": {
      "text/plain": [
       "[<matplotlib.lines.Line2D at 0x23544573940>]"
      ]
     },
     "execution_count": 12,
     "metadata": {},
     "output_type": "execute_result"
    },
    {
     "data": {
      "image/png": "[encoded data removed]",
      "text/plain": [
       "<Figure size 432x288 with 1 Axes>"
      ]
     },
     "metadata": {
      "needs_background": "light"
     },
     "output_type": "display_data"
    }
   ],
   "source": [
    "plt.scatter(df['X'],df['y'])\n",
    "plt.plot(df['X'],df['pred1'],color='red')"
   ]
  },
  {
   "cell_type": "code",
   "execution_count": 13,
   "id": "e77fdbaa",
   "metadata": {},
   "outputs": [],
   "source": [
    "from sklearn.tree import DecisionTreeRegressor"
   ]
  },
  {
   "cell_type": "code",
   "execution_count": 14,
   "id": "f50f8ce4",
   "metadata": {},
   "outputs": [],
   "source": [
    "tree1 = DecisionTreeRegressor(max_leaf_nodes=8)"
   ]
  },
  {
   "cell_type": "code",
   "execution_count": 15,
   "id": "05ccb30b",
   "metadata": {},
   "outputs": [
    {
     "data": {
      "text/html": [
       "<style>#sk-container-id-1 {color: black;background-color: white;}#sk-container-id-1 pre{padding: 0;}#sk-container-id-1 div.sk-toggleable {background-color: white;}#sk-container-id-1 label.sk-toggleable__label {cursor: pointer;display: block;width: 100%;margin-bottom: 0;padding: 0.3em;box-sizing: border-box;text-align: center;}#sk-container-id-1 label.sk-toggleable__label-arrow:before {content: \"▸\";float: left;margin-right: 0.25em;color: #696969;}#sk-container-id-1 label.sk-toggleable__label-arrow:hover:before {color: black;}#sk-container-id-1 div.sk-estimator:hover label.sk-toggleable__label-arrow:before {color: black;}#sk-container-id-1 div.sk-toggleable__content {max-height: 0;max-width: 0;overflow: hidden;text-align: left;background-color: #f0f8ff;}#sk-container-id-1 div.sk-toggleable__content pre {margin: 0.2em;color: black;border-radius: 0.25em;background-color: #f0f8ff;}#sk-container-id-1 input.sk-toggleable__control:checked~div.sk-toggleable__content {max-height: 200px;max-width: 100%;overflow: auto;}#sk-container-id-1 input.sk-toggleable__control:checked~label.sk-toggleable__label-arrow:before {content: \"▾\";}#sk-container-id-1 div.sk-estimator input.sk-toggleable__control:checked~label.sk-toggleable__label {background-color: #d4ebff;}#sk-container-id-1 div.sk-label input.sk-toggleable__control:checked~label.sk-toggleable__label {background-color: #d4ebff;}#sk-container-id-1 input.sk-hidden--visually {border: 0;clip: rect(1px 1px 1px 1px);clip: rect(1px, 1px, 1px, 1px);height: 1px;margin: -1px;overflow: hidden;padding: 0;position: absolute;width: 1px;}#sk-container-id-1 div.sk-estimator {font-family: monospace;background-color: #f0f8ff;border: 1px dotted black;border-radius: 0.25em;box-sizing: border-box;margin-bottom: 0.5em;}#sk-container-id-1 div.sk-estimator:hover {background-color: #d4ebff;}#sk-container-id-1 div.sk-parallel-item::after {content: \"\";width: 100%;border-bottom: 1px solid gray;flex-grow: 1;}#sk-container-id-1 div.sk-label:hover label.sk-toggleable__label {background-color: #d4ebff;}#sk-container-id-1 div.sk-serial::before {content: \"\";position: absolute;border-left: 1px solid gray;box-sizing: border-box;top: 0;bottom: 0;left: 50%;z-index: 0;}#sk-container-id-1 div.sk-serial {display: flex;flex-direction: column;align-items: center;background-color: white;padding-right: 0.2em;padding-left: 0.2em;position: relative;}#sk-container-id-1 div.sk-item {position: relative;z-index: 1;}#sk-container-id-1 div.sk-parallel {display: flex;align-items: stretch;justify-content: center;background-color: white;position: relative;}#sk-container-id-1 div.sk-item::before, #sk-container-id-1 div.sk-parallel-item::before {content: \"\";position: absolute;border-left: 1px solid gray;box-sizing: border-box;top: 0;bottom: 0;left: 50%;z-index: -1;}#sk-container-id-1 div.sk-parallel-item {display: flex;flex-direction: column;z-index: 1;position: relative;background-color: white;}#sk-container-id-1 div.sk-parallel-item:first-child::after {align-self: flex-end;width: 50%;}#sk-container-id-1 div.sk-parallel-item:last-child::after {align-self: flex-start;width: 50%;}#sk-container-id-1 div.sk-parallel-item:only-child::after {width: 0;}#sk-container-id-1 div.sk-dashed-wrapped {border: 1px dashed gray;margin: 0 0.4em 0.5em 0.4em;box-sizing: border-box;padding-bottom: 0.4em;background-color: white;}#sk-container-id-1 div.sk-label label {font-family: monospace;font-weight: bold;display: inline-block;line-height: 1.2em;}#sk-container-id-1 div.sk-label-container {text-align: center;}#sk-container-id-1 div.sk-container {/* jupyter's `normalize.less` sets `[hidden] { display: none; }` but bootstrap.min.css set `[hidden] { display: none !important; }` so we also need the `!important` here to be able to override the default hidden behavior on the sphinx rendered scikit-learn.org. See: https://github.com/scikit-learn/scikit-learn/issues/21755 */display: inline-block !important;position: relative;}#sk-container-id-1 div.sk-text-repr-fallback {display: none;}</style><div id=\"sk-container-id-1\" class=\"sk-top-container\"><div class=\"sk-text-repr-fallback\"><pre>DecisionTreeRegressor(max_leaf_nodes=8)</pre><b>In a Jupyter environment, please rerun this cell to show the HTML representation or trust the notebook. <br />On GitHub, the HTML representation is unable to render, please try loading this page with nbviewer.org.</b></div><div class=\"sk-container\" hidden><div class=\"sk-item\"><div class=\"sk-estimator sk-toggleable\"><input class=\"sk-toggleable__control sk-hidden--visually\" id=\"sk-estimator-id-1\" type=\"checkbox\" checked><label for=\"sk-estimator-id-1\" class=\"sk-toggleable__label sk-toggleable__label-arrow\">DecisionTreeRegressor</label><div class=\"sk-toggleable__content\"><pre>DecisionTreeRegressor(max_leaf_nodes=8)</pre></div></div></div></div></div>"
      ],
      "text/plain": [
       "DecisionTreeRegressor(max_leaf_nodes=8)"
      ]
     },
     "execution_count": 15,
     "metadata": {},
     "output_type": "execute_result"
    }
   ],
   "source": [
    "tree1.fit(df['X'].values.reshape(100,1),df['res1'].values)"
   ]
  },
  {
   "cell_type": "code",
   "execution_count": 16,
   "id": "cdbb0a92",
   "metadata": {},
   "outputs": [
    {
     "data": {
      "image/png": "[encoded data removed]",
      "text/plain": [
       "<Figure size 432x288 with 1 Axes>"
      ]
     },
     "metadata": {
      "needs_background": "light"
     },
     "output_type": "display_data"
    }
   ],
   "source": [
    "from sklearn.tree import plot_tree\n",
    "plot_tree(tree1)\n",
    "plt.show()"
   ]
  },
  {
   "cell_type": "code",
   "execution_count": 17,
   "id": "5a852005",
   "metadata": {},
   "outputs": [],
   "source": [
    "# generating X_test\n",
    "X_test = np.linspace(-0.5, 0.5, 500)"
   ]
  },
  {
   "cell_type": "code",
   "execution_count": 18,
   "id": "c1be75d3",
   "metadata": {},
   "outputs": [],
   "source": [
    "y_pred = 0.265458 + tree1.predict(X_test.reshape(500, 1))"
   ]
  },
  {
   "cell_type": "code",
   "execution_count": 19,
   "id": "f411295f",
   "metadata": {},
   "outputs": [
    {
     "data": {
      "text/plain": [
       "<matplotlib.collections.PathCollection at 0x23545bd4d90>"
      ]
     },
     "execution_count": 19,
     "metadata": {},
     "output_type": "execute_result"
    },
    {
     "data": {
      "image/png": "[encoded data removed]",
      "text/plain": [
       "<Figure size 1008x288 with 1 Axes>"
      ]
     },
     "metadata": {
      "needs_background": "light"
     },
     "output_type": "display_data"
    }
   ],
   "source": [
    "plt.figure(figsize=(14,4))\n",
    "plt.subplot(121)\n",
    "plt.plot(X_test, y_pred, linewidth=2,color='red')\n",
    "plt.scatter(df['X'],df['y'])"
   ]
  },
  {
   "cell_type": "code",
   "execution_count": 20,
   "id": "9fa695d8",
   "metadata": {},
   "outputs": [],
   "source": [
    "df['pred2'] = 0.265458 + tree1.predict(df['X'].values.reshape(100,1))"
   ]
  },
  {
   "cell_type": "code",
   "execution_count": 21,
   "id": "7073a00f",
   "metadata": {},
   "outputs": [
    {
     "data": {
      "text/html": [
       "<div>\n",
       "<style scoped>\n",
       "    .dataframe tbody tr th:only-of-type {\n",
       "        vertical-align: middle;\n",
       "    }\n",
       "\n",
       "    .dataframe tbody tr th {\n",
       "        vertical-align: top;\n",
       "    }\n",
       "\n",
       "    .dataframe thead th {\n",
       "        text-align: right;\n",
       "    }\n",
       "</style>\n",
       "<table border=\"1\" class=\"dataframe\">\n",
       "  <thead>\n",
       "    <tr style=\"text-align: right;\">\n",
       "      <th></th>\n",
       "      <th>X</th>\n",
       "      <th>y</th>\n",
       "      <th>pred1</th>\n",
       "      <th>res1</th>\n",
       "      <th>pred2</th>\n",
       "    </tr>\n",
       "  </thead>\n",
       "  <tbody>\n",
       "    <tr>\n",
       "      <th>0</th>\n",
       "      <td>-0.125460</td>\n",
       "      <td>0.051573</td>\n",
       "      <td>0.265458</td>\n",
       "      <td>-0.213885</td>\n",
       "      <td>0.018319</td>\n",
       "    </tr>\n",
       "    <tr>\n",
       "      <th>1</th>\n",
       "      <td>0.450714</td>\n",
       "      <td>0.594480</td>\n",
       "      <td>0.265458</td>\n",
       "      <td>0.329021</td>\n",
       "      <td>0.605884</td>\n",
       "    </tr>\n",
       "    <tr>\n",
       "      <th>2</th>\n",
       "      <td>0.231994</td>\n",
       "      <td>0.166052</td>\n",
       "      <td>0.265458</td>\n",
       "      <td>-0.099407</td>\n",
       "      <td>0.215784</td>\n",
       "    </tr>\n",
       "    <tr>\n",
       "      <th>3</th>\n",
       "      <td>0.098658</td>\n",
       "      <td>-0.070178</td>\n",
       "      <td>0.265458</td>\n",
       "      <td>-0.335636</td>\n",
       "      <td>0.018319</td>\n",
       "    </tr>\n",
       "    <tr>\n",
       "      <th>4</th>\n",
       "      <td>-0.343981</td>\n",
       "      <td>0.343986</td>\n",
       "      <td>0.265458</td>\n",
       "      <td>0.078528</td>\n",
       "      <td>0.305964</td>\n",
       "    </tr>\n",
       "    <tr>\n",
       "      <th>...</th>\n",
       "      <td>...</td>\n",
       "      <td>...</td>\n",
       "      <td>...</td>\n",
       "      <td>...</td>\n",
       "      <td>...</td>\n",
       "    </tr>\n",
       "    <tr>\n",
       "      <th>95</th>\n",
       "      <td>-0.006204</td>\n",
       "      <td>-0.040675</td>\n",
       "      <td>0.265458</td>\n",
       "      <td>-0.306133</td>\n",
       "      <td>0.018319</td>\n",
       "    </tr>\n",
       "    <tr>\n",
       "      <th>96</th>\n",
       "      <td>0.022733</td>\n",
       "      <td>-0.002305</td>\n",
       "      <td>0.265458</td>\n",
       "      <td>-0.267763</td>\n",
       "      <td>0.018319</td>\n",
       "    </tr>\n",
       "    <tr>\n",
       "      <th>97</th>\n",
       "      <td>-0.072459</td>\n",
       "      <td>0.032809</td>\n",
       "      <td>0.265458</td>\n",
       "      <td>-0.232650</td>\n",
       "      <td>0.018319</td>\n",
       "    </tr>\n",
       "    <tr>\n",
       "      <th>98</th>\n",
       "      <td>-0.474581</td>\n",
       "      <td>0.689516</td>\n",
       "      <td>0.265458</td>\n",
       "      <td>0.424057</td>\n",
       "      <td>0.660912</td>\n",
       "    </tr>\n",
       "    <tr>\n",
       "      <th>99</th>\n",
       "      <td>-0.392109</td>\n",
       "      <td>0.502607</td>\n",
       "      <td>0.265458</td>\n",
       "      <td>0.237148</td>\n",
       "      <td>0.487796</td>\n",
       "    </tr>\n",
       "  </tbody>\n",
       "</table>\n",
       "<p>100 rows × 5 columns</p>\n",
       "</div>"
      ],
      "text/plain": [
       "           X         y     pred1      res1     pred2\n",
       "0  -0.125460  0.051573  0.265458 -0.213885  0.018319\n",
       "1   0.450714  0.594480  0.265458  0.329021  0.605884\n",
       "2   0.231994  0.166052  0.265458 -0.099407  0.215784\n",
       "3   0.098658 -0.070178  0.265458 -0.335636  0.018319\n",
       "4  -0.343981  0.343986  0.265458  0.078528  0.305964\n",
       "..       ...       ...       ...       ...       ...\n",
       "95 -0.006204 -0.040675  0.265458 -0.306133  0.018319\n",
       "96  0.022733 -0.002305  0.265458 -0.267763  0.018319\n",
       "97 -0.072459  0.032809  0.265458 -0.232650  0.018319\n",
       "98 -0.474581  0.689516  0.265458  0.424057  0.660912\n",
       "99 -0.392109  0.502607  0.265458  0.237148  0.487796\n",
       "\n",
       "[100 rows x 5 columns]"
      ]
     },
     "execution_count": 21,
     "metadata": {},
     "output_type": "execute_result"
    }
   ],
   "source": [
    "df"
   ]
  },
  {
   "cell_type": "code",
   "execution_count": 22,
   "id": "d0702bf2",
   "metadata": {},
   "outputs": [],
   "source": [
    "df['res2'] = df['y'] - df['pred2']"
   ]
  },
  {
   "cell_type": "code",
   "execution_count": 23,
   "id": "cd623f3c",
   "metadata": {},
   "outputs": [
    {
     "data": {
      "text/html": [
       "<div>\n",
       "<style scoped>\n",
       "    .dataframe tbody tr th:only-of-type {\n",
       "        vertical-align: middle;\n",
       "    }\n",
       "\n",
       "    .dataframe tbody tr th {\n",
       "        vertical-align: top;\n",
       "    }\n",
       "\n",
       "    .dataframe thead th {\n",
       "        text-align: right;\n",
       "    }\n",
       "</style>\n",
       "<table border=\"1\" class=\"dataframe\">\n",
       "  <thead>\n",
       "    <tr style=\"text-align: right;\">\n",
       "      <th></th>\n",
       "      <th>X</th>\n",
       "      <th>y</th>\n",
       "      <th>pred1</th>\n",
       "      <th>res1</th>\n",
       "      <th>pred2</th>\n",
       "      <th>res2</th>\n",
       "    </tr>\n",
       "  </thead>\n",
       "  <tbody>\n",
       "    <tr>\n",
       "      <th>0</th>\n",
       "      <td>-0.125460</td>\n",
       "      <td>0.051573</td>\n",
       "      <td>0.265458</td>\n",
       "      <td>-0.213885</td>\n",
       "      <td>0.018319</td>\n",
       "      <td>0.033254</td>\n",
       "    </tr>\n",
       "    <tr>\n",
       "      <th>1</th>\n",
       "      <td>0.450714</td>\n",
       "      <td>0.594480</td>\n",
       "      <td>0.265458</td>\n",
       "      <td>0.329021</td>\n",
       "      <td>0.605884</td>\n",
       "      <td>-0.011404</td>\n",
       "    </tr>\n",
       "    <tr>\n",
       "      <th>2</th>\n",
       "      <td>0.231994</td>\n",
       "      <td>0.166052</td>\n",
       "      <td>0.265458</td>\n",
       "      <td>-0.099407</td>\n",
       "      <td>0.215784</td>\n",
       "      <td>-0.049732</td>\n",
       "    </tr>\n",
       "    <tr>\n",
       "      <th>3</th>\n",
       "      <td>0.098658</td>\n",
       "      <td>-0.070178</td>\n",
       "      <td>0.265458</td>\n",
       "      <td>-0.335636</td>\n",
       "      <td>0.018319</td>\n",
       "      <td>-0.088497</td>\n",
       "    </tr>\n",
       "    <tr>\n",
       "      <th>4</th>\n",
       "      <td>-0.343981</td>\n",
       "      <td>0.343986</td>\n",
       "      <td>0.265458</td>\n",
       "      <td>0.078528</td>\n",
       "      <td>0.305964</td>\n",
       "      <td>0.038022</td>\n",
       "    </tr>\n",
       "    <tr>\n",
       "      <th>...</th>\n",
       "      <td>...</td>\n",
       "      <td>...</td>\n",
       "      <td>...</td>\n",
       "      <td>...</td>\n",
       "      <td>...</td>\n",
       "      <td>...</td>\n",
       "    </tr>\n",
       "    <tr>\n",
       "      <th>95</th>\n",
       "      <td>-0.006204</td>\n",
       "      <td>-0.040675</td>\n",
       "      <td>0.265458</td>\n",
       "      <td>-0.306133</td>\n",
       "      <td>0.018319</td>\n",
       "      <td>-0.058994</td>\n",
       "    </tr>\n",
       "    <tr>\n",
       "      <th>96</th>\n",
       "      <td>0.022733</td>\n",
       "      <td>-0.002305</td>\n",
       "      <td>0.265458</td>\n",
       "      <td>-0.267763</td>\n",
       "      <td>0.018319</td>\n",
       "      <td>-0.020624</td>\n",
       "    </tr>\n",
       "    <tr>\n",
       "      <th>97</th>\n",
       "      <td>-0.072459</td>\n",
       "      <td>0.032809</td>\n",
       "      <td>0.265458</td>\n",
       "      <td>-0.232650</td>\n",
       "      <td>0.018319</td>\n",
       "      <td>0.014489</td>\n",
       "    </tr>\n",
       "    <tr>\n",
       "      <th>98</th>\n",
       "      <td>-0.474581</td>\n",
       "      <td>0.689516</td>\n",
       "      <td>0.265458</td>\n",
       "      <td>0.424057</td>\n",
       "      <td>0.660912</td>\n",
       "      <td>0.028604</td>\n",
       "    </tr>\n",
       "    <tr>\n",
       "      <th>99</th>\n",
       "      <td>-0.392109</td>\n",
       "      <td>0.502607</td>\n",
       "      <td>0.265458</td>\n",
       "      <td>0.237148</td>\n",
       "      <td>0.487796</td>\n",
       "      <td>0.014810</td>\n",
       "    </tr>\n",
       "  </tbody>\n",
       "</table>\n",
       "<p>100 rows × 6 columns</p>\n",
       "</div>"
      ],
      "text/plain": [
       "           X         y     pred1      res1     pred2      res2\n",
       "0  -0.125460  0.051573  0.265458 -0.213885  0.018319  0.033254\n",
       "1   0.450714  0.594480  0.265458  0.329021  0.605884 -0.011404\n",
       "2   0.231994  0.166052  0.265458 -0.099407  0.215784 -0.049732\n",
       "3   0.098658 -0.070178  0.265458 -0.335636  0.018319 -0.088497\n",
       "4  -0.343981  0.343986  0.265458  0.078528  0.305964  0.038022\n",
       "..       ...       ...       ...       ...       ...       ...\n",
       "95 -0.006204 -0.040675  0.265458 -0.306133  0.018319 -0.058994\n",
       "96  0.022733 -0.002305  0.265458 -0.267763  0.018319 -0.020624\n",
       "97 -0.072459  0.032809  0.265458 -0.232650  0.018319  0.014489\n",
       "98 -0.474581  0.689516  0.265458  0.424057  0.660912  0.028604\n",
       "99 -0.392109  0.502607  0.265458  0.237148  0.487796  0.014810\n",
       "\n",
       "[100 rows x 6 columns]"
      ]
     },
     "execution_count": 23,
     "metadata": {},
     "output_type": "execute_result"
    }
   ],
   "source": [
    "df"
   ]
  },
  {
   "cell_type": "code",
   "execution_count": 28,
   "id": "8d9616ce",
   "metadata": {},
   "outputs": [],
   "source": [
    "tree2 = DecisionTreeRegressor(max_leaf_nodes=8)"
   ]
  },
  {
   "cell_type": "code",
   "execution_count": 29,
   "id": "4bc2ac50",
   "metadata": {},
   "outputs": [
    {
     "data": {
      "text/html": [
       "<style>#sk-container-id-3 {color: black;background-color: white;}#sk-container-id-3 pre{padding: 0;}#sk-container-id-3 div.sk-toggleable {background-color: white;}#sk-container-id-3 label.sk-toggleable__label {cursor: pointer;display: block;width: 100%;margin-bottom: 0;padding: 0.3em;box-sizing: border-box;text-align: center;}#sk-container-id-3 label.sk-toggleable__label-arrow:before {content: \"▸\";float: left;margin-right: 0.25em;color: #696969;}#sk-container-id-3 label.sk-toggleable__label-arrow:hover:before {color: black;}#sk-container-id-3 div.sk-estimator:hover label.sk-toggleable__label-arrow:before {color: black;}#sk-container-id-3 div.sk-toggleable__content {max-height: 0;max-width: 0;overflow: hidden;text-align: left;background-color: #f0f8ff;}#sk-container-id-3 div.sk-toggleable__content pre {margin: 0.2em;color: black;border-radius: 0.25em;background-color: #f0f8ff;}#sk-container-id-3 input.sk-toggleable__control:checked~div.sk-toggleable__content {max-height: 200px;max-width: 100%;overflow: auto;}#sk-container-id-3 input.sk-toggleable__control:checked~label.sk-toggleable__label-arrow:before {content: \"▾\";}#sk-container-id-3 div.sk-estimator input.sk-toggleable__control:checked~label.sk-toggleable__label {background-color: #d4ebff;}#sk-container-id-3 div.sk-label input.sk-toggleable__control:checked~label.sk-toggleable__label {background-color: #d4ebff;}#sk-container-id-3 input.sk-hidden--visually {border: 0;clip: rect(1px 1px 1px 1px);clip: rect(1px, 1px, 1px, 1px);height: 1px;margin: -1px;overflow: hidden;padding: 0;position: absolute;width: 1px;}#sk-container-id-3 div.sk-estimator {font-family: monospace;background-color: #f0f8ff;border: 1px dotted black;border-radius: 0.25em;box-sizing: border-box;margin-bottom: 0.5em;}#sk-container-id-3 div.sk-estimator:hover {background-color: #d4ebff;}#sk-container-id-3 div.sk-parallel-item::after {content: \"\";width: 100%;border-bottom: 1px solid gray;flex-grow: 1;}#sk-container-id-3 div.sk-label:hover label.sk-toggleable__label {background-color: #d4ebff;}#sk-container-id-3 div.sk-serial::before {content: \"\";position: absolute;border-left: 1px solid gray;box-sizing: border-box;top: 0;bottom: 0;left: 50%;z-index: 0;}#sk-container-id-3 div.sk-serial {display: flex;flex-direction: column;align-items: center;background-color: white;padding-right: 0.2em;padding-left: 0.2em;position: relative;}#sk-container-id-3 div.sk-item {position: relative;z-index: 1;}#sk-container-id-3 div.sk-parallel {display: flex;align-items: stretch;justify-content: center;background-color: white;position: relative;}#sk-container-id-3 div.sk-item::before, #sk-container-id-3 div.sk-parallel-item::before {content: \"\";position: absolute;border-left: 1px solid gray;box-sizing: border-box;top: 0;bottom: 0;left: 50%;z-index: -1;}#sk-container-id-3 div.sk-parallel-item {display: flex;flex-direction: column;z-index: 1;position: relative;background-color: white;}#sk-container-id-3 div.sk-parallel-item:first-child::after {align-self: flex-end;width: 50%;}#sk-container-id-3 div.sk-parallel-item:last-child::after {align-self: flex-start;width: 50%;}#sk-container-id-3 div.sk-parallel-item:only-child::after {width: 0;}#sk-container-id-3 div.sk-dashed-wrapped {border: 1px dashed gray;margin: 0 0.4em 0.5em 0.4em;box-sizing: border-box;padding-bottom: 0.4em;background-color: white;}#sk-container-id-3 div.sk-label label {font-family: monospace;font-weight: bold;display: inline-block;line-height: 1.2em;}#sk-container-id-3 div.sk-label-container {text-align: center;}#sk-container-id-3 div.sk-container {/* jupyter's `normalize.less` sets `[hidden] { display: none; }` but bootstrap.min.css set `[hidden] { display: none !important; }` so we also need the `!important` here to be able to override the default hidden behavior on the sphinx rendered scikit-learn.org. See: https://github.com/scikit-learn/scikit-learn/issues/21755 */display: inline-block !important;position: relative;}#sk-container-id-3 div.sk-text-repr-fallback {display: none;}</style><div id=\"sk-container-id-3\" class=\"sk-top-container\"><div class=\"sk-text-repr-fallback\"><pre>DecisionTreeRegressor(max_leaf_nodes=8)</pre><b>In a Jupyter environment, please rerun this cell to show the HTML representation or trust the notebook. <br />On GitHub, the HTML representation is unable to render, please try loading this page with nbviewer.org.</b></div><div class=\"sk-container\" hidden><div class=\"sk-item\"><div class=\"sk-estimator sk-toggleable\"><input class=\"sk-toggleable__control sk-hidden--visually\" id=\"sk-estimator-id-3\" type=\"checkbox\" checked><label for=\"sk-estimator-id-3\" class=\"sk-toggleable__label sk-toggleable__label-arrow\">DecisionTreeRegressor</label><div class=\"sk-toggleable__content\"><pre>DecisionTreeRegressor(max_leaf_nodes=8)</pre></div></div></div></div></div>"
      ],
      "text/plain": [
       "DecisionTreeRegressor(max_leaf_nodes=8)"
      ]
     },
     "execution_count": 29,
     "metadata": {},
     "output_type": "execute_result"
    }
   ],
   "source": [
    "tree2.fit(df['X'].values.reshape(100,1),df['res2'].values)"
   ]
  },
  {
   "cell_type": "code",
   "execution_count": 30,
   "id": "db79e8d6",
   "metadata": {},
   "outputs": [],
   "source": [
    "y_pred = 0.265458 + sum(regressor.predict(X_test.reshape(-1, 1)) for regressor in [tree1,tree2])"
   ]
  },
  {
   "cell_type": "code",
   "execution_count": 31,
   "id": "aedb657c",
   "metadata": {},
   "outputs": [
    {
     "data": {
      "text/plain": [
       "Text(0.5, 1.0, 'X vs y')"
      ]
     },
     "execution_count": 31,
     "metadata": {},
     "output_type": "execute_result"
    },
    {
     "data": {
      "image/png": "[encoded data removed]",
      "text/plain": [
       "<Figure size 1008x288 with 1 Axes>"
      ]
     },
     "metadata": {
      "needs_background": "light"
     },
     "output_type": "display_data"
    }
   ],
   "source": [
    "plt.figure(figsize=(14,4))\n",
    "plt.subplot(121)\n",
    "plt.plot(X_test, y_pred, linewidth=2,color='red')\n",
    "plt.scatter(df['X'],df['y'])\n",
    "plt.title('X vs y')"
   ]
  },
  {
   "cell_type": "code",
   "execution_count": 34,
   "id": "d28c2bd4",
   "metadata": {},
   "outputs": [],
   "source": [
    "def gradient_boost(X, y, number, lr, count=1, regs=None, foo=None):\n",
    "    if regs is None:\n",
    "        regs = []\n",
    "\n",
    "    if number == 0:\n",
    "        return\n",
    "    else:\n",
    "        # Perform gradient boosting\n",
    "\n",
    "        if count > 1:\n",
    "            y = y - regs[-1].predict(X)\n",
    "        else:\n",
    "            foo = y\n",
    "\n",
    "        tree_reg = DecisionTreeRegressor(max_depth=5, random_state=42)\n",
    "        tree_reg.fit(X, y)\n",
    "\n",
    "        regs.append(tree_reg)\n",
    "\n",
    "        x1 = np.linspace(-0.5, 0.5, 500)\n",
    "        y_pred = sum(lr * regressor.predict(x1.reshape(-1, 1)) for regressor in regs)\n",
    "\n",
    "        print(number)\n",
    "        plt.figure()\n",
    "        plt.plot(x1, y_pred, linewidth=2)\n",
    "        plt.plot(X[:, 0], foo, \"r.\")\n",
    "        plt.show()\n",
    "\n",
    "        gradient_boost(X, y, number-1, lr, count+1, regs, foo=foo)"
   ]
  },
  {
   "cell_type": "code",
   "execution_count": 35,
   "id": "dde38ada",
   "metadata": {},
   "outputs": [
    {
     "name": "stdout",
     "output_type": "stream",
     "text": [
      "5\n"
     ]
    },
    {
     "data": {
      "image/png": "[encoded data removed]",
      "text/plain": [
       "<Figure size 432x288 with 1 Axes>"
      ]
     },
     "metadata": {
      "needs_background": "light"
     },
     "output_type": "display_data"
    },
    {
     "name": "stdout",
     "output_type": "stream",
     "text": [
      "4\n"
     ]
    },
    {
     "data": {
      "image/png": "[encoded data removed]",
      "text/plain": [
       "<Figure size 432x288 with 1 Axes>"
      ]
     },
     "metadata": {
      "needs_background": "light"
     },
     "output_type": "display_data"
    },
    {
     "name": "stdout",
     "output_type": "stream",
     "text": [
      "3\n"
     ]
    },
    {
     "data": {
      "image/png": "[encoded data removed]",
      "text/plain": [
       "<Figure size 432x288 with 1 Axes>"
      ]
     },
     "metadata": {
      "needs_background": "light"
     },
     "output_type": "display_data"
    },
    {
     "name": "stdout",
     "output_type": "stream",
     "text": [
      "2\n"
     ]
    },
    {
     "data": {
      "image/png": "[encoded data removed]",
      "text/plain": [
       "<Figure size 432x288 with 1 Axes>"
      ]
     },
     "metadata": {
      "needs_background": "light"
     },
     "output_type": "display_data"
    },
    {
     "name": "stdout",
     "output_type": "stream",
     "text": [
      "1\n"
     ]
    },
    {
     "data": {
      "image/png": "[encoded data removed]",
      "text/plain": [
       "<Figure size 432x288 with 1 Axes>"
      ]
     },
     "metadata": {
      "needs_background": "light"
     },
     "output_type": "display_data"
    }
   ],
   "source": [
    "np.random.seed(42)\n",
    "X = np.random.rand(100, 1) - 0.5\n",
    "y = 3*X[:, 0]**2 + 0.05 * np.random.randn(100)\n",
    "gradient_boost(X,y,5,lr=1)"
   ]
  }
 ],
 "metadata": {
  "kernelspec": {
   "display_name": "Python 3 (ipykernel)",
   "language": "python",
   "name": "python3"
  },
  "language_info": {
   "codemirror_mode": {
    "name": "ipython",
    "version": 3
   },
   "file_extension": ".py",
   "mimetype": "text/x-python",
   "name": "python",
   "nbconvert_exporter": "python",
   "pygments_lexer": "ipython3",
   "version": "3.9.12"
  }
 },
 "nbformat": 4,
 "nbformat_minor": 5
}
