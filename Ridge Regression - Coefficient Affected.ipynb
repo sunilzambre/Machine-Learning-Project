{
 "cells": [
  {
   "cell_type": "markdown",
   "id": "036b3fe5",
   "metadata": {},
   "source": [
    "### 1. How are coefficients affected?"
   ]
  },
  {
   "cell_type": "code",
   "execution_count": 1,
   "id": "3cd25f49",
   "metadata": {},
   "outputs": [],
   "source": [
    "from sklearn.datasets import load_diabetes\n",
    "\n",
    "import numpy as np\n",
    "import pandas as pd\n",
    "\n",
    "import matplotlib.pyplot as plt"
   ]
  },
  {
   "cell_type": "code",
   "execution_count": 2,
   "id": "dfcffc3b",
   "metadata": {},
   "outputs": [],
   "source": [
    "data = load_diabetes()"
   ]
  },
  {
   "cell_type": "code",
   "execution_count": 3,
   "id": "eb5dedbb",
   "metadata": {},
   "outputs": [],
   "source": [
    "df = pd.DataFrame(data.data,columns=data.feature_names)\n",
    "df['TARGET'] = data.target"
   ]
  },
  {
   "cell_type": "code",
   "execution_count": 4,
   "id": "6f879c84",
   "metadata": {},
   "outputs": [
    {
     "data": {
      "text/html": [
       "<div>\n",
       "<style scoped>\n",
       "    .dataframe tbody tr th:only-of-type {\n",
       "        vertical-align: middle;\n",
       "    }\n",
       "\n",
       "    .dataframe tbody tr th {\n",
       "        vertical-align: top;\n",
       "    }\n",
       "\n",
       "    .dataframe thead th {\n",
       "        text-align: right;\n",
       "    }\n",
       "</style>\n",
       "<table border=\"1\" class=\"dataframe\">\n",
       "  <thead>\n",
       "    <tr style=\"text-align: right;\">\n",
       "      <th></th>\n",
       "      <th>age</th>\n",
       "      <th>sex</th>\n",
       "      <th>bmi</th>\n",
       "      <th>bp</th>\n",
       "      <th>s1</th>\n",
       "      <th>s2</th>\n",
       "      <th>s3</th>\n",
       "      <th>s4</th>\n",
       "      <th>s5</th>\n",
       "      <th>s6</th>\n",
       "      <th>TARGET</th>\n",
       "    </tr>\n",
       "  </thead>\n",
       "  <tbody>\n",
       "    <tr>\n",
       "      <th>0</th>\n",
       "      <td>0.038076</td>\n",
       "      <td>0.050680</td>\n",
       "      <td>0.061696</td>\n",
       "      <td>0.021872</td>\n",
       "      <td>-0.044223</td>\n",
       "      <td>-0.034821</td>\n",
       "      <td>-0.043401</td>\n",
       "      <td>-0.002592</td>\n",
       "      <td>0.019907</td>\n",
       "      <td>-0.017646</td>\n",
       "      <td>151.0</td>\n",
       "    </tr>\n",
       "    <tr>\n",
       "      <th>1</th>\n",
       "      <td>-0.001882</td>\n",
       "      <td>-0.044642</td>\n",
       "      <td>-0.051474</td>\n",
       "      <td>-0.026328</td>\n",
       "      <td>-0.008449</td>\n",
       "      <td>-0.019163</td>\n",
       "      <td>0.074412</td>\n",
       "      <td>-0.039493</td>\n",
       "      <td>-0.068332</td>\n",
       "      <td>-0.092204</td>\n",
       "      <td>75.0</td>\n",
       "    </tr>\n",
       "    <tr>\n",
       "      <th>2</th>\n",
       "      <td>0.085299</td>\n",
       "      <td>0.050680</td>\n",
       "      <td>0.044451</td>\n",
       "      <td>-0.005670</td>\n",
       "      <td>-0.045599</td>\n",
       "      <td>-0.034194</td>\n",
       "      <td>-0.032356</td>\n",
       "      <td>-0.002592</td>\n",
       "      <td>0.002861</td>\n",
       "      <td>-0.025930</td>\n",
       "      <td>141.0</td>\n",
       "    </tr>\n",
       "    <tr>\n",
       "      <th>3</th>\n",
       "      <td>-0.089063</td>\n",
       "      <td>-0.044642</td>\n",
       "      <td>-0.011595</td>\n",
       "      <td>-0.036656</td>\n",
       "      <td>0.012191</td>\n",
       "      <td>0.024991</td>\n",
       "      <td>-0.036038</td>\n",
       "      <td>0.034309</td>\n",
       "      <td>0.022688</td>\n",
       "      <td>-0.009362</td>\n",
       "      <td>206.0</td>\n",
       "    </tr>\n",
       "    <tr>\n",
       "      <th>4</th>\n",
       "      <td>0.005383</td>\n",
       "      <td>-0.044642</td>\n",
       "      <td>-0.036385</td>\n",
       "      <td>0.021872</td>\n",
       "      <td>0.003935</td>\n",
       "      <td>0.015596</td>\n",
       "      <td>0.008142</td>\n",
       "      <td>-0.002592</td>\n",
       "      <td>-0.031988</td>\n",
       "      <td>-0.046641</td>\n",
       "      <td>135.0</td>\n",
       "    </tr>\n",
       "  </tbody>\n",
       "</table>\n",
       "</div>"
      ],
      "text/plain": [
       "        age       sex       bmi        bp        s1        s2        s3  \\\n",
       "0  0.038076  0.050680  0.061696  0.021872 -0.044223 -0.034821 -0.043401   \n",
       "1 -0.001882 -0.044642 -0.051474 -0.026328 -0.008449 -0.019163  0.074412   \n",
       "2  0.085299  0.050680  0.044451 -0.005670 -0.045599 -0.034194 -0.032356   \n",
       "3 -0.089063 -0.044642 -0.011595 -0.036656  0.012191  0.024991 -0.036038   \n",
       "4  0.005383 -0.044642 -0.036385  0.021872  0.003935  0.015596  0.008142   \n",
       "\n",
       "         s4        s5        s6  TARGET  \n",
       "0 -0.002592  0.019907 -0.017646   151.0  \n",
       "1 -0.039493 -0.068332 -0.092204    75.0  \n",
       "2 -0.002592  0.002861 -0.025930   141.0  \n",
       "3  0.034309  0.022688 -0.009362   206.0  \n",
       "4 -0.002592 -0.031988 -0.046641   135.0  "
      ]
     },
     "execution_count": 4,
     "metadata": {},
     "output_type": "execute_result"
    }
   ],
   "source": [
    "df.head()"
   ]
  },
  {
   "cell_type": "code",
   "execution_count": 5,
   "id": "1aacdf02",
   "metadata": {},
   "outputs": [
    {
     "data": {
      "text/plain": [
       "(442, 11)"
      ]
     },
     "execution_count": 5,
     "metadata": {},
     "output_type": "execute_result"
    }
   ],
   "source": [
    "df.shape"
   ]
  },
  {
   "cell_type": "code",
   "execution_count": 6,
   "id": "1e748d4c",
   "metadata": {},
   "outputs": [],
   "source": [
    "from sklearn.model_selection import train_test_split\n",
    "X_train,X_test,y_train,y_test = train_test_split(data.data,data.target,test_size=0.2,random_state=2)"
   ]
  },
  {
   "cell_type": "code",
   "execution_count": 7,
   "id": "b6b4e59e",
   "metadata": {},
   "outputs": [],
   "source": [
    "from sklearn.linear_model import Ridge\n",
    "from sklearn.metrics import r2_score"
   ]
  },
  {
   "cell_type": "code",
   "execution_count": 8,
   "id": "20fcc1e6",
   "metadata": {},
   "outputs": [],
   "source": [
    "coefs = []\n",
    "r2_scores = []\n",
    "\n",
    "for i in [0,10,100,1000]:\n",
    "    reg = Ridge(alpha=i)\n",
    "    reg.fit(X_train,y_train)\n",
    "    \n",
    "    coefs.append(reg.coef_.tolist())\n",
    "    y_pred = reg.predict(X_test)\n",
    "    r2_scores.append(r2_score(y_test,y_pred))"
   ]
  },
  {
   "cell_type": "code",
   "execution_count": 9,
   "id": "5c60ff78",
   "metadata": {},
   "outputs": [
    {
     "data": {
      "image/png": "[encoded data removed]",
      "text/plain": [
       "<Figure size 1008x648 with 4 Axes>"
      ]
     },
     "metadata": {
      "needs_background": "light"
     },
     "output_type": "display_data"
    }
   ],
   "source": [
    "plt.figure(figsize=(14,9))\n",
    "plt.subplot(221)\n",
    "plt.bar(data.feature_names,coefs[0])\n",
    "plt.title('Alpha = 0 ,r2_score = {}'.format(round(r2_scores[0],2)))\n",
    "\n",
    "plt.subplot(222)\n",
    "plt.bar(data.feature_names,coefs[1])\n",
    "plt.title('Alpha = 10 ,r2_score = {}'.format(round(r2_scores[1],2)))\n",
    "\n",
    "plt.subplot(223)\n",
    "plt.bar(data.feature_names,coefs[2])\n",
    "plt.title('Alpha = 100 ,r2_score = {}'.format(round(r2_scores[2],2)))\n",
    "\n",
    "plt.subplot(224)\n",
    "plt.bar(data.feature_names,coefs[3])\n",
    "plt.title('Alpha = 1000 ,r2_score = {}'.format(round(r2_scores[3],2)))\n",
    "\n",
    "plt.show()"
   ]
  },
  {
   "cell_type": "markdown",
   "id": "b591b45b",
   "metadata": {},
   "source": [
    "### 2. Higher Coefficients are affected more"
   ]
  },
  {
   "cell_type": "code",
   "execution_count": 10,
   "id": "eca2885e",
   "metadata": {},
   "outputs": [],
   "source": [
    "alphas = [0,0.0001,0.001,0.01,0.1,1,10,100,1000,10000]\n",
    "\n",
    "coefs = []\n",
    "\n",
    "for i in alphas:\n",
    "    reg = Ridge(alpha=i)\n",
    "    reg.fit(X_train,y_train)\n",
    "    \n",
    "    coefs.append(reg.coef_.tolist())"
   ]
  },
  {
   "cell_type": "code",
   "execution_count": 11,
   "id": "4934ce26",
   "metadata": {},
   "outputs": [],
   "source": [
    "input_array = np.array(coefs)"
   ]
  },
  {
   "cell_type": "code",
   "execution_count": 12,
   "id": "4dc8a60f",
   "metadata": {},
   "outputs": [
    {
     "data": {
      "text/html": [
       "<div>\n",
       "<style scoped>\n",
       "    .dataframe tbody tr th:only-of-type {\n",
       "        vertical-align: middle;\n",
       "    }\n",
       "\n",
       "    .dataframe tbody tr th {\n",
       "        vertical-align: top;\n",
       "    }\n",
       "\n",
       "    .dataframe thead th {\n",
       "        text-align: right;\n",
       "    }\n",
       "</style>\n",
       "<table border=\"1\" class=\"dataframe\">\n",
       "  <thead>\n",
       "    <tr style=\"text-align: right;\">\n",
       "      <th></th>\n",
       "      <th>age</th>\n",
       "      <th>sex</th>\n",
       "      <th>bmi</th>\n",
       "      <th>bp</th>\n",
       "      <th>s1</th>\n",
       "      <th>s2</th>\n",
       "      <th>s3</th>\n",
       "      <th>s4</th>\n",
       "      <th>s5</th>\n",
       "      <th>s6</th>\n",
       "    </tr>\n",
       "    <tr>\n",
       "      <th>alpha</th>\n",
       "      <th></th>\n",
       "      <th></th>\n",
       "      <th></th>\n",
       "      <th></th>\n",
       "      <th></th>\n",
       "      <th></th>\n",
       "      <th></th>\n",
       "      <th></th>\n",
       "      <th></th>\n",
       "      <th></th>\n",
       "    </tr>\n",
       "  </thead>\n",
       "  <tbody>\n",
       "    <tr>\n",
       "      <th>0.0000</th>\n",
       "      <td>-9.158653</td>\n",
       "      <td>-205.454322</td>\n",
       "      <td>516.693745</td>\n",
       "      <td>340.619999</td>\n",
       "      <td>-895.552002</td>\n",
       "      <td>561.220679</td>\n",
       "      <td>153.893110</td>\n",
       "      <td>126.731397</td>\n",
       "      <td>861.127002</td>\n",
       "      <td>52.421122</td>\n",
       "    </tr>\n",
       "    <tr>\n",
       "      <th>0.0001</th>\n",
       "      <td>-9.116119</td>\n",
       "      <td>-205.329219</td>\n",
       "      <td>516.889664</td>\n",
       "      <td>340.549436</td>\n",
       "      <td>-883.423872</td>\n",
       "      <td>551.559582</td>\n",
       "      <td>148.587063</td>\n",
       "      <td>125.353015</td>\n",
       "      <td>856.485935</td>\n",
       "      <td>52.468916</td>\n",
       "    </tr>\n",
       "    <tr>\n",
       "      <th>0.0010</th>\n",
       "      <td>-8.761487</td>\n",
       "      <td>-204.313404</td>\n",
       "      <td>518.380608</td>\n",
       "      <td>339.967926</td>\n",
       "      <td>-787.700510</td>\n",
       "      <td>475.282181</td>\n",
       "      <td>106.795253</td>\n",
       "      <td>114.629265</td>\n",
       "      <td>819.745723</td>\n",
       "      <td>52.873349</td>\n",
       "    </tr>\n",
       "    <tr>\n",
       "      <th>0.0100</th>\n",
       "      <td>-6.399507</td>\n",
       "      <td>-198.662945</td>\n",
       "      <td>522.056516</td>\n",
       "      <td>336.340595</td>\n",
       "      <td>-383.717571</td>\n",
       "      <td>152.670882</td>\n",
       "      <td>-66.053243</td>\n",
       "      <td>75.608209</td>\n",
       "      <td>659.875219</td>\n",
       "      <td>55.829221</td>\n",
       "    </tr>\n",
       "    <tr>\n",
       "      <th>0.1000</th>\n",
       "      <td>6.643733</td>\n",
       "      <td>-172.237474</td>\n",
       "      <td>485.529585</td>\n",
       "      <td>314.675846</td>\n",
       "      <td>-72.940209</td>\n",
       "      <td>-80.588688</td>\n",
       "      <td>-174.463527</td>\n",
       "      <td>83.614710</td>\n",
       "      <td>484.365316</td>\n",
       "      <td>73.585091</td>\n",
       "    </tr>\n",
       "    <tr>\n",
       "      <th>1.0000</th>\n",
       "      <td>42.242528</td>\n",
       "      <td>-57.304483</td>\n",
       "      <td>282.172125</td>\n",
       "      <td>198.059395</td>\n",
       "      <td>14.363734</td>\n",
       "      <td>-22.551079</td>\n",
       "      <td>-136.929684</td>\n",
       "      <td>102.023069</td>\n",
       "      <td>260.104294</td>\n",
       "      <td>98.552692</td>\n",
       "    </tr>\n",
       "    <tr>\n",
       "      <th>10.0000</th>\n",
       "      <td>21.174024</td>\n",
       "      <td>1.659837</td>\n",
       "      <td>63.659826</td>\n",
       "      <td>48.492858</td>\n",
       "      <td>18.421510</td>\n",
       "      <td>12.875466</td>\n",
       "      <td>-38.915435</td>\n",
       "      <td>38.842475</td>\n",
       "      <td>61.612302</td>\n",
       "      <td>35.505383</td>\n",
       "    </tr>\n",
       "    <tr>\n",
       "      <th>100.0000</th>\n",
       "      <td>2.858980</td>\n",
       "      <td>0.629453</td>\n",
       "      <td>7.540605</td>\n",
       "      <td>5.849949</td>\n",
       "      <td>2.710879</td>\n",
       "      <td>2.142135</td>\n",
       "      <td>-4.834047</td>\n",
       "      <td>5.108223</td>\n",
       "      <td>7.448451</td>\n",
       "      <td>4.576129</td>\n",
       "    </tr>\n",
       "    <tr>\n",
       "      <th>1000.0000</th>\n",
       "      <td>0.295726</td>\n",
       "      <td>0.069290</td>\n",
       "      <td>0.769004</td>\n",
       "      <td>0.597824</td>\n",
       "      <td>0.282900</td>\n",
       "      <td>0.225936</td>\n",
       "      <td>-0.495607</td>\n",
       "      <td>0.527031</td>\n",
       "      <td>0.761496</td>\n",
       "      <td>0.471029</td>\n",
       "    </tr>\n",
       "    <tr>\n",
       "      <th>10000.0000</th>\n",
       "      <td>0.029674</td>\n",
       "      <td>0.006995</td>\n",
       "      <td>0.077054</td>\n",
       "      <td>0.059914</td>\n",
       "      <td>0.028412</td>\n",
       "      <td>0.022715</td>\n",
       "      <td>-0.049686</td>\n",
       "      <td>0.052870</td>\n",
       "      <td>0.076321</td>\n",
       "      <td>0.047241</td>\n",
       "    </tr>\n",
       "  </tbody>\n",
       "</table>\n",
       "</div>"
      ],
      "text/plain": [
       "                  age         sex         bmi          bp          s1  \\\n",
       "alpha                                                                   \n",
       "0.0000      -9.158653 -205.454322  516.693745  340.619999 -895.552002   \n",
       "0.0001      -9.116119 -205.329219  516.889664  340.549436 -883.423872   \n",
       "0.0010      -8.761487 -204.313404  518.380608  339.967926 -787.700510   \n",
       "0.0100      -6.399507 -198.662945  522.056516  336.340595 -383.717571   \n",
       "0.1000       6.643733 -172.237474  485.529585  314.675846  -72.940209   \n",
       "1.0000      42.242528  -57.304483  282.172125  198.059395   14.363734   \n",
       "10.0000     21.174024    1.659837   63.659826   48.492858   18.421510   \n",
       "100.0000     2.858980    0.629453    7.540605    5.849949    2.710879   \n",
       "1000.0000    0.295726    0.069290    0.769004    0.597824    0.282900   \n",
       "10000.0000   0.029674    0.006995    0.077054    0.059914    0.028412   \n",
       "\n",
       "                    s2          s3          s4          s5         s6  \n",
       "alpha                                                                  \n",
       "0.0000      561.220679  153.893110  126.731397  861.127002  52.421122  \n",
       "0.0001      551.559582  148.587063  125.353015  856.485935  52.468916  \n",
       "0.0010      475.282181  106.795253  114.629265  819.745723  52.873349  \n",
       "0.0100      152.670882  -66.053243   75.608209  659.875219  55.829221  \n",
       "0.1000      -80.588688 -174.463527   83.614710  484.365316  73.585091  \n",
       "1.0000      -22.551079 -136.929684  102.023069  260.104294  98.552692  \n",
       "10.0000      12.875466  -38.915435   38.842475   61.612302  35.505383  \n",
       "100.0000      2.142135   -4.834047    5.108223    7.448451   4.576129  \n",
       "1000.0000     0.225936   -0.495607    0.527031    0.761496   0.471029  \n",
       "10000.0000    0.022715   -0.049686    0.052870    0.076321   0.047241  "
      ]
     },
     "execution_count": 12,
     "metadata": {},
     "output_type": "execute_result"
    }
   ],
   "source": [
    "coef_df = pd.DataFrame(input_array,columns=data.feature_names)\n",
    "coef_df['alpha'] = alphas\n",
    "coef_df.set_index('alpha')"
   ]
  },
  {
   "cell_type": "code",
   "execution_count": 13,
   "id": "564bcc01",
   "metadata": {},
   "outputs": [],
   "source": [
    "alphas = [0,0.0001,0.0005,0.001,0.005,0.1,0.5,1,5,10]\n",
    "\n",
    "coefs = []\n",
    "\n",
    "for i in alphas:\n",
    "    reg = Ridge(alpha=i)\n",
    "    reg.fit(X_train,y_train)\n",
    "    \n",
    "    coefs.append(reg.coef_.tolist())"
   ]
  },
  {
   "cell_type": "code",
   "execution_count": 14,
   "id": "2c684ee0",
   "metadata": {},
   "outputs": [],
   "source": [
    "input_array = np.array(coefs).T"
   ]
  },
  {
   "cell_type": "code",
   "execution_count": 15,
   "id": "d01d6871",
   "metadata": {},
   "outputs": [
    {
     "data": {
      "text/plain": [
       "<matplotlib.legend.Legend at 0x1c6e0757d90>"
      ]
     },
     "execution_count": 15,
     "metadata": {},
     "output_type": "execute_result"
    },
    {
     "data": {
      "image/png": "[encoded data removed]",
      "text/plain": [
       "<Figure size 1080x576 with 1 Axes>"
      ]
     },
     "metadata": {
      "needs_background": "light"
     },
     "output_type": "display_data"
    }
   ],
   "source": [
    "plt.figure(figsize=(15,8))\n",
    "plt.plot(alphas,np.zeros(len(alphas)),color='black',linewidth=5)\n",
    "for i in range(input_array.shape[0]):\n",
    "    plt.plot(alphas,input_array[i],label=data.feature_names[i])\n",
    "plt.legend()"
   ]
  },
  {
   "cell_type": "markdown",
   "id": "a28b85f0",
   "metadata": {},
   "source": [
    "## 3. Impact on Bias and Variance"
   ]
  },
  {
   "cell_type": "code",
   "execution_count": 16,
   "id": "08781902",
   "metadata": {},
   "outputs": [
    {
     "data": {
      "image/png": "[encoded data removed]",
      "text/plain": [
       "<Figure size 432x288 with 1 Axes>"
      ]
     },
     "metadata": {
      "needs_background": "light"
     },
     "output_type": "display_data"
    }
   ],
   "source": [
    "m = 100\n",
    "X = 5 * np.random.rand(m, 1) - 2\n",
    "y = 0.7 * X ** 2 - 2 * X + 3 + np.random.randn(m, 1)\n",
    "\n",
    "plt.scatter(X, y)\n",
    "plt.show()"
   ]
  },
  {
   "cell_type": "code",
   "execution_count": 17,
   "id": "b1e0cb75",
   "metadata": {},
   "outputs": [],
   "source": [
    "X_train,X_test,y_train,y_test = train_test_split(X.reshape(100,1),y.reshape(100),test_size=0.2,random_state=2)"
   ]
  },
  {
   "cell_type": "code",
   "execution_count": 18,
   "id": "60840c64",
   "metadata": {},
   "outputs": [],
   "source": [
    "from sklearn.preprocessing import PolynomialFeatures\n",
    "poly = PolynomialFeatures(degree=15)\n",
    "\n",
    "X_train = poly.fit_transform(X_train)\n",
    "X_test = poly.transform(X_test)"
   ]
  },
  {
   "cell_type": "code",
   "execution_count": 19,
   "id": "cec5a028",
   "metadata": {},
   "outputs": [],
   "source": [
    "from mlxtend.evaluate import bias_variance_decomp\n",
    "\n",
    "alphas = np.linspace(0,30,100)\n",
    "\n",
    "loss = []\n",
    "bias = []\n",
    "variance = []\n",
    "\n",
    "for i in alphas:\n",
    "    reg = Ridge(alpha=i)\n",
    "    avg_expected_loss, avg_bias, avg_var = bias_variance_decomp(\n",
    "        reg, X_train, y_train, X_test, y_test, \n",
    "        loss='mse',\n",
    "        random_seed=123)\n",
    "    loss.append(avg_expected_loss)\n",
    "    bias.append(avg_bias)\n",
    "    variance.append(avg_var)"
   ]
  },
  {
   "cell_type": "code",
   "execution_count": 20,
   "id": "bad5aa82",
   "metadata": {},
   "outputs": [
    {
     "data": {
      "text/plain": [
       "<matplotlib.legend.Legend at 0x1c6d9f12340>"
      ]
     },
     "execution_count": 20,
     "metadata": {},
     "output_type": "execute_result"
    },
    {
     "data": {
      "image/png": "[encoded data removed]",
      "text/plain": [
       "<Figure size 432x288 with 1 Axes>"
      ]
     },
     "metadata": {
      "needs_background": "light"
     },
     "output_type": "display_data"
    }
   ],
   "source": [
    "plt.plot(alphas,loss,label='loss')\n",
    "plt.plot(alphas,bias,label='Bias')\n",
    "plt.plot(alphas,variance,label='Variance')\n",
    "plt.ylim(0,5)\n",
    "plt.xlabel('Alpha')\n",
    "plt.legend()"
   ]
  },
  {
   "cell_type": "markdown",
   "id": "58075e65",
   "metadata": {},
   "source": [
    "## 4. Effect of Regularization on Loss Function"
   ]
  },
  {
   "cell_type": "code",
   "execution_count": 21,
   "id": "eadef2ae",
   "metadata": {},
   "outputs": [
    {
     "name": "stdout",
     "output_type": "stream",
     "text": [
      "[27.82809103]\n",
      "-2.29474455867698\n"
     ]
    },
    {
     "data": {
      "image/png": "[encoded data removed]",
      "text/plain": [
       "<Figure size 432x288 with 1 Axes>"
      ]
     },
     "metadata": {
      "needs_background": "light"
     },
     "output_type": "display_data"
    }
   ],
   "source": [
    "from sklearn.datasets import make_regression\n",
    "\n",
    "X,y = make_regression(n_samples=100, n_features=1, n_informative=1, n_targets=1,noise=20,random_state=13)\n",
    "\n",
    "plt.scatter(X,y)\n",
    "\n",
    "from sklearn.linear_model import LinearRegression\n",
    "\n",
    "reg = LinearRegression()\n",
    "reg.fit(X,y)\n",
    "print(reg.coef_)\n",
    "print(reg.intercept_)"
   ]
  },
  {
   "cell_type": "code",
   "execution_count": 22,
   "id": "fdaea5f4",
   "metadata": {},
   "outputs": [],
   "source": [
    "def cal_loss(m,alpha):\n",
    "    return np.sum((y - m*X.ravel() + 2.29)**2) + alpha*m*m"
   ]
  },
  {
   "cell_type": "code",
   "execution_count": 23,
   "id": "3fa263ac",
   "metadata": {},
   "outputs": [],
   "source": [
    "def predict(m):\n",
    "    return m*X - 2.29"
   ]
  },
  {
   "cell_type": "code",
   "execution_count": 24,
   "id": "af12f889",
   "metadata": {},
   "outputs": [
    {
     "data": {
      "image/png": "[encoded data removed]",
      "text/plain": [
       "<Figure size 288x432 with 1 Axes>"
      ]
     },
     "metadata": {
      "needs_background": "light"
     },
     "output_type": "display_data"
    }
   ],
   "source": [
    "m = np.linspace(-45,100,100)\n",
    "plt.figure(figsize=(4,6))\n",
    "for j in [0,10,20,30,40,50,100]:\n",
    "    loss = []\n",
    "    for i in range(m.shape[0]):\n",
    "        loss_i = cal_loss(m[i],j)\n",
    "        loss.append(loss_i)\n",
    "    plt.plot(m,loss,label='alpha = {}'.format(j))\n",
    "plt.legend()\n",
    "plt.xlabel('Alpha')\n",
    "plt.ylabel('Loss')\n",
    "plt.show()"
   ]
  }
 ],
 "metadata": {
  "kernelspec": {
   "display_name": "Python 3 (ipykernel)",
   "language": "python",
   "name": "python3"
  },
  "language_info": {
   "codemirror_mode": {
    "name": "ipython",
    "version": 3
   },
   "file_extension": ".py",
   "mimetype": "text/x-python",
   "name": "python",
   "nbconvert_exporter": "python",
   "pygments_lexer": "ipython3",
   "version": "3.9.12"
  }
 },
 "nbformat": 4,
 "nbformat_minor": 5
}
