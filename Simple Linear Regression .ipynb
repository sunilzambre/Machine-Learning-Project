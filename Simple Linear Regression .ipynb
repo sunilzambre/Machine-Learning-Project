{
 "cells": [
  {
   "cell_type": "markdown",
   "id": "662a6ce6",
   "metadata": {},
   "source": [
    "## Simple Linear Regression"
   ]
  },
  {
   "cell_type": "markdown",
   "id": "bb40d4e1",
   "metadata": {},
   "source": [
    "****Step 1: Reading and Understanding the Data****\n",
    "* Importing data using the pandas library\n",
    "* Understanding the structure of the data"
   ]
  },
  {
   "cell_type": "code",
   "execution_count": 1,
   "id": "21d2852f",
   "metadata": {},
   "outputs": [],
   "source": [
    "import numpy as np\n",
    "import pandas as pd\n",
    "import seaborn as sns\n",
    "import matplotlib.pyplot as plt\n",
    "\n",
    "#Supress warnings\n",
    "import warnings\n",
    "warnings.filterwarnings('ignore')"
   ]
  },
  {
   "cell_type": "code",
   "execution_count": 2,
   "id": "d7087427",
   "metadata": {},
   "outputs": [],
   "source": [
    "#Reading the csv file\n",
    "\n",
    "advt_df = pd.read_csv('Advertising_dataset.csv')"
   ]
  },
  {
   "cell_type": "code",
   "execution_count": 3,
   "id": "10bfed7e",
   "metadata": {},
   "outputs": [
    {
     "data": {
      "text/html": [
       "<div>\n",
       "<style scoped>\n",
       "    .dataframe tbody tr th:only-of-type {\n",
       "        vertical-align: middle;\n",
       "    }\n",
       "\n",
       "    .dataframe tbody tr th {\n",
       "        vertical-align: top;\n",
       "    }\n",
       "\n",
       "    .dataframe thead th {\n",
       "        text-align: right;\n",
       "    }\n",
       "</style>\n",
       "<table border=\"1\" class=\"dataframe\">\n",
       "  <thead>\n",
       "    <tr style=\"text-align: right;\">\n",
       "      <th></th>\n",
       "      <th>TV</th>\n",
       "      <th>Radio</th>\n",
       "      <th>Newspaper</th>\n",
       "      <th>Sales</th>\n",
       "    </tr>\n",
       "  </thead>\n",
       "  <tbody>\n",
       "    <tr>\n",
       "      <th>0</th>\n",
       "      <td>230.1</td>\n",
       "      <td>37.8</td>\n",
       "      <td>69.2</td>\n",
       "      <td>22.1</td>\n",
       "    </tr>\n",
       "    <tr>\n",
       "      <th>1</th>\n",
       "      <td>44.5</td>\n",
       "      <td>39.3</td>\n",
       "      <td>45.1</td>\n",
       "      <td>10.4</td>\n",
       "    </tr>\n",
       "    <tr>\n",
       "      <th>2</th>\n",
       "      <td>17.2</td>\n",
       "      <td>45.9</td>\n",
       "      <td>69.3</td>\n",
       "      <td>12.0</td>\n",
       "    </tr>\n",
       "    <tr>\n",
       "      <th>3</th>\n",
       "      <td>151.5</td>\n",
       "      <td>41.3</td>\n",
       "      <td>58.5</td>\n",
       "      <td>16.5</td>\n",
       "    </tr>\n",
       "    <tr>\n",
       "      <th>4</th>\n",
       "      <td>180.8</td>\n",
       "      <td>10.8</td>\n",
       "      <td>58.4</td>\n",
       "      <td>17.9</td>\n",
       "    </tr>\n",
       "    <tr>\n",
       "      <th>...</th>\n",
       "      <td>...</td>\n",
       "      <td>...</td>\n",
       "      <td>...</td>\n",
       "      <td>...</td>\n",
       "    </tr>\n",
       "    <tr>\n",
       "      <th>195</th>\n",
       "      <td>38.2</td>\n",
       "      <td>3.7</td>\n",
       "      <td>13.8</td>\n",
       "      <td>7.6</td>\n",
       "    </tr>\n",
       "    <tr>\n",
       "      <th>196</th>\n",
       "      <td>94.2</td>\n",
       "      <td>4.9</td>\n",
       "      <td>8.1</td>\n",
       "      <td>14.0</td>\n",
       "    </tr>\n",
       "    <tr>\n",
       "      <th>197</th>\n",
       "      <td>177.0</td>\n",
       "      <td>9.3</td>\n",
       "      <td>6.4</td>\n",
       "      <td>14.8</td>\n",
       "    </tr>\n",
       "    <tr>\n",
       "      <th>198</th>\n",
       "      <td>283.6</td>\n",
       "      <td>42.0</td>\n",
       "      <td>66.2</td>\n",
       "      <td>25.5</td>\n",
       "    </tr>\n",
       "    <tr>\n",
       "      <th>199</th>\n",
       "      <td>232.1</td>\n",
       "      <td>8.6</td>\n",
       "      <td>8.7</td>\n",
       "      <td>18.4</td>\n",
       "    </tr>\n",
       "  </tbody>\n",
       "</table>\n",
       "<p>200 rows × 4 columns</p>\n",
       "</div>"
      ],
      "text/plain": [
       "        TV  Radio  Newspaper  Sales\n",
       "0    230.1   37.8       69.2   22.1\n",
       "1     44.5   39.3       45.1   10.4\n",
       "2     17.2   45.9       69.3   12.0\n",
       "3    151.5   41.3       58.5   16.5\n",
       "4    180.8   10.8       58.4   17.9\n",
       "..     ...    ...        ...    ...\n",
       "195   38.2    3.7       13.8    7.6\n",
       "196   94.2    4.9        8.1   14.0\n",
       "197  177.0    9.3        6.4   14.8\n",
       "198  283.6   42.0       66.2   25.5\n",
       "199  232.1    8.6        8.7   18.4\n",
       "\n",
       "[200 rows x 4 columns]"
      ]
     },
     "execution_count": 3,
     "metadata": {},
     "output_type": "execute_result"
    }
   ],
   "source": [
    "advt_df"
   ]
  },
  {
   "cell_type": "markdown",
   "id": "dc20aed8",
   "metadata": {},
   "source": [
    "## Let see inspect the various aspects of our data"
   ]
  },
  {
   "cell_type": "code",
   "execution_count": 4,
   "id": "d02b4491",
   "metadata": {},
   "outputs": [
    {
     "data": {
      "text/plain": [
       "(200, 4)"
      ]
     },
     "execution_count": 4,
     "metadata": {},
     "output_type": "execute_result"
    }
   ],
   "source": [
    "advt_df.shape"
   ]
  },
  {
   "cell_type": "markdown",
   "id": "c19ecebc",
   "metadata": {},
   "source": [
    "This tells us we have 200 rows and 4 features i.e columns"
   ]
  },
  {
   "cell_type": "code",
   "execution_count": 5,
   "id": "56c42afe",
   "metadata": {},
   "outputs": [
    {
     "name": "stdout",
     "output_type": "stream",
     "text": [
      "230.1\t37.8\t69.2\t22.1\t\n",
      "44.5\t39.3\t45.1\t10.4\t\n",
      "17.2\t45.9\t69.3\t12.0\t\n",
      "151.5\t41.3\t58.5\t16.5\t\n",
      "180.8\t10.8\t58.4\t17.9\t\n",
      "8.7\t48.9\t75.0\t7.2\t\n",
      "57.5\t32.8\t23.5\t11.8\t\n",
      "120.2\t19.6\t11.6\t13.2\t\n",
      "8.6\t2.1\t1.0\t4.8\t\n",
      "199.8\t2.6\t21.2\t15.6\t\n",
      "66.1\t5.8\t24.2\t12.6\t\n",
      "214.7\t24.0\t4.0\t17.4\t\n",
      "23.8\t35.1\t65.9\t9.2\t\n",
      "97.5\t7.6\t7.2\t13.7\t\n",
      "204.1\t32.9\t46.0\t19.0\t\n",
      "195.4\t47.7\t52.9\t22.4\t\n",
      "67.8\t36.6\t114.0\t12.5\t\n",
      "281.4\t39.6\t55.8\t24.4\t\n",
      "69.2\t20.5\t18.3\t11.3\t\n",
      "147.3\t23.9\t19.1\t14.6\t\n",
      "218.4\t27.7\t53.4\t18.0\t\n",
      "237.4\t5.1\t23.5\t17.5\t\n",
      "13.2\t15.9\t49.6\t5.6\t\n",
      "228.3\t16.9\t26.2\t20.5\t\n",
      "62.3\t12.6\t18.3\t9.7\t\n",
      "262.9\t3.5\t19.5\t17.0\t\n",
      "142.9\t29.3\t12.6\t15.0\t\n",
      "240.1\t16.7\t22.9\t20.9\t\n",
      "248.8\t27.1\t22.9\t18.9\t\n",
      "70.6\t16.0\t40.8\t10.5\t\n",
      "292.9\t28.3\t43.2\t21.4\t\n",
      "112.9\t17.4\t38.6\t11.9\t\n",
      "97.2\t1.5\t30.0\t13.2\t\n",
      "265.6\t20.0\t0.3\t17.4\t\n",
      "95.7\t1.4\t7.4\t11.9\t\n",
      "290.7\t4.1\t8.5\t17.8\t\n",
      "266.9\t43.8\t5.0\t25.4\t\n",
      "74.7\t49.4\t45.7\t14.7\t\n",
      "43.1\t26.7\t35.1\t10.1\t\n",
      "228.0\t37.7\t32.0\t21.5\t\n",
      "202.5\t22.3\t31.6\t16.6\t\n",
      "177.0\t33.4\t38.7\t17.1\t\n",
      "293.6\t27.7\t1.8\t20.7\t\n",
      "206.9\t8.4\t26.4\t17.9\t\n",
      "25.1\t25.7\t43.3\t8.5\t\n",
      "175.1\t22.5\t31.5\t16.1\t\n",
      "89.7\t9.9\t35.7\t10.6\t\n",
      "239.9\t41.5\t18.5\t23.2\t\n",
      "227.2\t15.8\t49.9\t19.8\t\n",
      "66.9\t11.7\t36.8\t9.7\t\n",
      "199.8\t3.1\t34.6\t16.4\t\n",
      "100.4\t9.6\t3.6\t10.7\t\n",
      "216.4\t41.7\t39.6\t22.6\t\n",
      "182.6\t46.2\t58.7\t21.2\t\n",
      "262.7\t28.8\t15.9\t20.2\t\n",
      "198.9\t49.4\t60.0\t23.7\t\n",
      "7.3\t28.1\t41.4\t5.5\t\n",
      "136.2\t19.2\t16.6\t13.2\t\n",
      "210.8\t49.6\t37.7\t23.8\t\n",
      "210.7\t29.5\t9.3\t18.4\t\n",
      "53.5\t2.0\t21.4\t8.1\t\n",
      "261.3\t42.7\t54.7\t24.2\t\n",
      "239.3\t15.5\t27.3\t20.7\t\n",
      "102.7\t29.6\t8.4\t14.0\t\n",
      "131.1\t42.8\t28.9\t16.0\t\n",
      "69.0\t9.3\t0.9\t11.3\t\n",
      "31.5\t24.6\t2.2\t11.0\t\n",
      "139.3\t14.5\t10.2\t13.4\t\n",
      "237.4\t27.5\t11.0\t18.9\t\n",
      "216.8\t43.9\t27.2\t22.3\t\n",
      "199.1\t30.6\t38.7\t18.3\t\n",
      "109.8\t14.3\t31.7\t12.4\t\n",
      "26.8\t33.0\t19.3\t8.8\t\n",
      "129.4\t5.7\t31.3\t11.0\t\n",
      "213.4\t24.6\t13.1\t17.0\t\n",
      "16.9\t43.7\t89.4\t8.7\t\n",
      "27.5\t1.6\t20.7\t6.9\t\n",
      "120.5\t28.5\t14.2\t14.2\t\n",
      "5.4\t29.9\t9.4\t5.3\t\n",
      "116.0\t7.7\t23.1\t11.0\t\n",
      "76.4\t26.7\t22.3\t11.8\t\n",
      "239.8\t4.1\t36.9\t17.3\t\n",
      "75.3\t20.3\t32.5\t11.3\t\n",
      "68.4\t44.5\t35.6\t13.6\t\n",
      "213.5\t43.0\t33.8\t21.7\t\n",
      "193.2\t18.4\t65.7\t20.2\t\n",
      "76.3\t27.5\t16.0\t12.0\t\n",
      "110.7\t40.6\t63.2\t16.0\t\n",
      "88.3\t25.5\t73.4\t12.9\t\n",
      "109.8\t47.8\t51.4\t16.7\t\n",
      "134.3\t4.9\t9.3\t14.0\t\n",
      "28.6\t1.5\t33.0\t7.3\t\n",
      "217.7\t33.5\t59.0\t19.4\t\n",
      "250.9\t36.5\t72.3\t22.2\t\n",
      "107.4\t14.0\t10.9\t11.5\t\n",
      "163.3\t31.6\t52.9\t16.9\t\n",
      "197.6\t3.5\t5.9\t16.7\t\n",
      "184.9\t21.0\t22.0\t20.5\t\n",
      "289.7\t42.3\t51.2\t25.4\t\n",
      "135.2\t41.7\t45.9\t17.2\t\n",
      "222.4\t4.3\t49.8\t16.7\t\n",
      "296.4\t36.3\t100.9\t23.8\t\n",
      "280.2\t10.1\t21.4\t19.8\t\n",
      "187.9\t17.2\t17.9\t19.7\t\n",
      "238.2\t34.3\t5.3\t20.7\t\n",
      "137.9\t46.4\t59.0\t15.0\t\n",
      "25.0\t11.0\t29.7\t7.2\t\n",
      "90.4\t0.3\t23.2\t12.0\t\n",
      "13.1\t0.4\t25.6\t5.3\t\n",
      "255.4\t26.9\t5.5\t19.8\t\n",
      "225.8\t8.2\t56.5\t18.4\t\n",
      "241.7\t38.0\t23.2\t21.8\t\n",
      "175.7\t15.4\t2.4\t17.1\t\n",
      "209.6\t20.6\t10.7\t20.9\t\n",
      "78.2\t46.8\t34.5\t14.6\t\n",
      "75.1\t35.0\t52.7\t12.6\t\n",
      "139.2\t14.3\t25.6\t12.2\t\n",
      "76.4\t0.8\t14.8\t9.4\t\n",
      "125.7\t36.9\t79.2\t15.9\t\n",
      "19.4\t16.0\t22.3\t6.6\t\n",
      "141.3\t26.8\t46.2\t15.5\t\n",
      "18.8\t21.7\t50.4\t7.0\t\n",
      "224.0\t2.4\t15.6\t16.6\t\n",
      "123.1\t34.6\t12.4\t15.2\t\n",
      "229.5\t32.3\t74.2\t19.7\t\n",
      "87.2\t11.8\t25.9\t10.6\t\n",
      "7.8\t38.9\t50.6\t6.6\t\n",
      "80.2\t0.0\t9.2\t11.9\t\n",
      "220.3\t49.0\t3.2\t24.7\t\n",
      "59.6\t12.0\t43.1\t9.7\t\n",
      "0.7\t39.6\t8.7\t1.6\t\n",
      "265.2\t2.9\t43.0\t17.7\t\n",
      "8.4\t27.2\t2.1\t5.7\t\n",
      "219.8\t33.5\t45.1\t19.6\t\n",
      "36.9\t38.6\t65.6\t10.8\t\n",
      "48.3\t47.0\t8.5\t11.6\t\n",
      "25.6\t39.0\t9.3\t9.5\t\n",
      "273.7\t28.9\t59.7\t20.8\t\n",
      "43.0\t25.9\t20.5\t9.6\t\n",
      "184.9\t43.9\t1.7\t20.7\t\n",
      "73.4\t17.0\t12.9\t10.9\t\n",
      "193.7\t35.4\t75.6\t19.2\t\n",
      "220.5\t33.2\t37.9\t20.1\t\n",
      "104.6\t5.7\t34.4\t10.4\t\n",
      "96.2\t14.8\t38.9\t12.3\t\n",
      "140.3\t1.9\t9.0\t10.3\t\n",
      "240.1\t7.3\t8.7\t18.2\t\n",
      "243.2\t49.0\t44.3\t25.4\t\n",
      "38.0\t40.3\t11.9\t10.9\t\n",
      "44.7\t25.8\t20.6\t10.1\t\n",
      "280.7\t13.9\t37.0\t16.1\t\n",
      "121.0\t8.4\t48.7\t11.6\t\n",
      "197.6\t23.3\t14.2\t16.6\t\n",
      "171.3\t39.7\t37.7\t16.0\t\n",
      "187.8\t21.1\t9.5\t20.6\t\n",
      "4.1\t11.6\t5.7\t3.2\t\n",
      "93.9\t43.5\t50.5\t15.3\t\n",
      "149.8\t1.3\t24.3\t10.1\t\n",
      "11.7\t36.9\t45.2\t7.3\t\n",
      "131.7\t18.4\t34.6\t12.9\t\n",
      "172.5\t18.1\t30.7\t16.4\t\n",
      "85.7\t35.8\t49.3\t13.3\t\n",
      "188.4\t18.1\t25.6\t19.9\t\n",
      "163.5\t36.8\t7.4\t18.0\t\n",
      "117.2\t14.7\t5.4\t11.9\t\n",
      "234.5\t3.4\t84.8\t16.9\t\n",
      "17.9\t37.6\t21.6\t8.0\t\n",
      "206.8\t5.2\t19.4\t17.2\t\n",
      "215.4\t23.6\t57.6\t17.1\t\n",
      "284.3\t10.6\t6.4\t20.0\t\n",
      "50.0\t11.6\t18.4\t8.4\t\n",
      "164.5\t20.9\t47.4\t17.5\t\n",
      "19.6\t20.1\t17.0\t7.6\t\n",
      "168.4\t7.1\t12.8\t16.7\t\n",
      "222.4\t3.4\t13.1\t16.5\t\n",
      "276.9\t48.9\t41.8\t27.0\t\n",
      "248.4\t30.2\t20.3\t20.2\t\n",
      "170.2\t7.8\t35.2\t16.7\t\n",
      "276.7\t2.3\t23.7\t16.8\t\n",
      "165.6\t10.0\t17.6\t17.6\t\n",
      "156.6\t2.6\t8.3\t15.5\t\n",
      "218.5\t5.4\t27.4\t17.2\t\n",
      "56.2\t5.7\t29.7\t8.7\t\n",
      "287.6\t43.0\t71.8\t26.2\t\n",
      "253.8\t21.3\t30.0\t17.6\t\n",
      "205.0\t45.1\t19.6\t22.6\t\n",
      "139.5\t2.1\t26.6\t10.3\t\n",
      "191.1\t28.7\t18.2\t17.3\t\n",
      "286.0\t13.9\t3.7\t20.9\t\n",
      "18.7\t12.1\t23.4\t6.7\t\n",
      "39.5\t41.1\t5.8\t10.8\t\n",
      "75.5\t10.8\t6.0\t11.9\t\n",
      "17.2\t4.1\t31.6\t5.9\t\n",
      "166.8\t42.0\t3.6\t19.6\t\n",
      "149.7\t35.6\t6.0\t17.3\t\n",
      "38.2\t3.7\t13.8\t7.6\t\n",
      "94.2\t4.9\t8.1\t14.0\t\n",
      "177.0\t9.3\t6.4\t14.8\t\n",
      "283.6\t42.0\t66.2\t25.5\t\n",
      "232.1\t8.6\t8.7\t18.4\t\n"
     ]
    }
   ],
   "source": [
    "# print the rows and columns using a for loop\n",
    "for i in range(advt_df.shape[0]):\n",
    "    for j in range(advt_df.shape[1]):\n",
    "        print(advt_df.iloc[i, j], end='\\t')\n",
    "    print()"
   ]
  },
  {
   "cell_type": "code",
   "execution_count": 6,
   "id": "7ed08c2c",
   "metadata": {},
   "outputs": [
    {
     "name": "stdout",
     "output_type": "stream",
     "text": [
      "<class 'pandas.core.frame.DataFrame'>\n",
      "RangeIndex: 200 entries, 0 to 199\n",
      "Data columns (total 4 columns):\n",
      " #   Column     Non-Null Count  Dtype  \n",
      "---  ------     --------------  -----  \n",
      " 0   TV         200 non-null    float64\n",
      " 1   Radio      200 non-null    float64\n",
      " 2   Newspaper  200 non-null    float64\n",
      " 3   Sales      200 non-null    float64\n",
      "dtypes: float64(4)\n",
      "memory usage: 6.4 KB\n"
     ]
    }
   ],
   "source": [
    "advt_df.info()"
   ]
  },
  {
   "cell_type": "code",
   "execution_count": 7,
   "id": "23e04094",
   "metadata": {},
   "outputs": [
    {
     "data": {
      "text/html": [
       "<div>\n",
       "<style scoped>\n",
       "    .dataframe tbody tr th:only-of-type {\n",
       "        vertical-align: middle;\n",
       "    }\n",
       "\n",
       "    .dataframe tbody tr th {\n",
       "        vertical-align: top;\n",
       "    }\n",
       "\n",
       "    .dataframe thead th {\n",
       "        text-align: right;\n",
       "    }\n",
       "</style>\n",
       "<table border=\"1\" class=\"dataframe\">\n",
       "  <thead>\n",
       "    <tr style=\"text-align: right;\">\n",
       "      <th></th>\n",
       "      <th>TV</th>\n",
       "      <th>Radio</th>\n",
       "      <th>Newspaper</th>\n",
       "      <th>Sales</th>\n",
       "    </tr>\n",
       "  </thead>\n",
       "  <tbody>\n",
       "    <tr>\n",
       "      <th>count</th>\n",
       "      <td>200.000000</td>\n",
       "      <td>200.000000</td>\n",
       "      <td>200.000000</td>\n",
       "      <td>200.000000</td>\n",
       "    </tr>\n",
       "    <tr>\n",
       "      <th>mean</th>\n",
       "      <td>147.042500</td>\n",
       "      <td>23.264000</td>\n",
       "      <td>30.554000</td>\n",
       "      <td>15.130500</td>\n",
       "    </tr>\n",
       "    <tr>\n",
       "      <th>std</th>\n",
       "      <td>85.854236</td>\n",
       "      <td>14.846809</td>\n",
       "      <td>21.778621</td>\n",
       "      <td>5.283892</td>\n",
       "    </tr>\n",
       "    <tr>\n",
       "      <th>min</th>\n",
       "      <td>0.700000</td>\n",
       "      <td>0.000000</td>\n",
       "      <td>0.300000</td>\n",
       "      <td>1.600000</td>\n",
       "    </tr>\n",
       "    <tr>\n",
       "      <th>25%</th>\n",
       "      <td>74.375000</td>\n",
       "      <td>9.975000</td>\n",
       "      <td>12.750000</td>\n",
       "      <td>11.000000</td>\n",
       "    </tr>\n",
       "    <tr>\n",
       "      <th>50%</th>\n",
       "      <td>149.750000</td>\n",
       "      <td>22.900000</td>\n",
       "      <td>25.750000</td>\n",
       "      <td>16.000000</td>\n",
       "    </tr>\n",
       "    <tr>\n",
       "      <th>75%</th>\n",
       "      <td>218.825000</td>\n",
       "      <td>36.525000</td>\n",
       "      <td>45.100000</td>\n",
       "      <td>19.050000</td>\n",
       "    </tr>\n",
       "    <tr>\n",
       "      <th>max</th>\n",
       "      <td>296.400000</td>\n",
       "      <td>49.600000</td>\n",
       "      <td>114.000000</td>\n",
       "      <td>27.000000</td>\n",
       "    </tr>\n",
       "  </tbody>\n",
       "</table>\n",
       "</div>"
      ],
      "text/plain": [
       "               TV       Radio   Newspaper       Sales\n",
       "count  200.000000  200.000000  200.000000  200.000000\n",
       "mean   147.042500   23.264000   30.554000   15.130500\n",
       "std     85.854236   14.846809   21.778621    5.283892\n",
       "min      0.700000    0.000000    0.300000    1.600000\n",
       "25%     74.375000    9.975000   12.750000   11.000000\n",
       "50%    149.750000   22.900000   25.750000   16.000000\n",
       "75%    218.825000   36.525000   45.100000   19.050000\n",
       "max    296.400000   49.600000  114.000000   27.000000"
      ]
     },
     "execution_count": 7,
     "metadata": {},
     "output_type": "execute_result"
    }
   ],
   "source": [
    "advt_df.describe()"
   ]
  },
  {
   "cell_type": "markdown",
   "id": "86733e7c",
   "metadata": {},
   "source": [
    "## Step 2: Visualizing the Data\n",
    "Visualize the data using seaborn.\n",
    "first make a pairplot of all the variables present to visualize which variables are most correlated to Sales."
   ]
  },
  {
   "cell_type": "code",
   "execution_count": 8,
   "id": "aa98be0f",
   "metadata": {},
   "outputs": [
    {
     "data": {
      "image/png": "[encoded data removed]",
      "text/plain": [
       "<Figure size 1296x432 with 3 Axes>"
      ]
     },
     "metadata": {
      "needs_background": "light"
     },
     "output_type": "display_data"
    }
   ],
   "source": [
    "sns.pairplot(advt_df, x_vars = ['TV', 'Radio', 'Newspaper'], y_vars='Sales', size=6, aspect=1, \n",
    "                                                                    kind='scatter', palette=\"husl\")\n",
    "plt.show()"
   ]
  },
  {
   "cell_type": "code",
   "execution_count": 9,
   "id": "ac233b95",
   "metadata": {},
   "outputs": [
    {
     "data": {
      "image/png": "[encoded data removed]",
      "text/plain": [
       "<Figure size 432x288 with 2 Axes>"
      ]
     },
     "metadata": {
      "needs_background": "light"
     },
     "output_type": "display_data"
    }
   ],
   "source": [
    "sns.heatmap(advt_df.corr(), annot = True)\n",
    "\n",
    "plt.show()"
   ]
  },
  {
   "cell_type": "code",
   "execution_count": 10,
   "id": "4adf97fa",
   "metadata": {},
   "outputs": [
    {
     "data": {
      "text/html": [
       "<div>\n",
       "<style scoped>\n",
       "    .dataframe tbody tr th:only-of-type {\n",
       "        vertical-align: middle;\n",
       "    }\n",
       "\n",
       "    .dataframe tbody tr th {\n",
       "        vertical-align: top;\n",
       "    }\n",
       "\n",
       "    .dataframe thead th {\n",
       "        text-align: right;\n",
       "    }\n",
       "</style>\n",
       "<table border=\"1\" class=\"dataframe\">\n",
       "  <thead>\n",
       "    <tr style=\"text-align: right;\">\n",
       "      <th></th>\n",
       "      <th>TV</th>\n",
       "      <th>Radio</th>\n",
       "      <th>Newspaper</th>\n",
       "      <th>Sales</th>\n",
       "    </tr>\n",
       "  </thead>\n",
       "  <tbody>\n",
       "    <tr>\n",
       "      <th>TV</th>\n",
       "      <td>1.000000</td>\n",
       "      <td>0.054809</td>\n",
       "      <td>0.056648</td>\n",
       "      <td>0.901208</td>\n",
       "    </tr>\n",
       "    <tr>\n",
       "      <th>Radio</th>\n",
       "      <td>0.054809</td>\n",
       "      <td>1.000000</td>\n",
       "      <td>0.354104</td>\n",
       "      <td>0.349631</td>\n",
       "    </tr>\n",
       "    <tr>\n",
       "      <th>Newspaper</th>\n",
       "      <td>0.056648</td>\n",
       "      <td>0.354104</td>\n",
       "      <td>1.000000</td>\n",
       "      <td>0.157960</td>\n",
       "    </tr>\n",
       "    <tr>\n",
       "      <th>Sales</th>\n",
       "      <td>0.901208</td>\n",
       "      <td>0.349631</td>\n",
       "      <td>0.157960</td>\n",
       "      <td>1.000000</td>\n",
       "    </tr>\n",
       "  </tbody>\n",
       "</table>\n",
       "</div>"
      ],
      "text/plain": [
       "                 TV     Radio  Newspaper     Sales\n",
       "TV         1.000000  0.054809   0.056648  0.901208\n",
       "Radio      0.054809  1.000000   0.354104  0.349631\n",
       "Newspaper  0.056648  0.354104   1.000000  0.157960\n",
       "Sales      0.901208  0.349631   0.157960  1.000000"
      ]
     },
     "execution_count": 10,
     "metadata": {},
     "output_type": "execute_result"
    }
   ],
   "source": [
    "advt_df.corr()"
   ]
  },
  {
   "cell_type": "raw",
   "id": "3e84cda2",
   "metadata": {},
   "source": [
    "As we can see based on the pairplot and heatmap, it appears that the variable TV has the strongest correlation with Sales. Therefore, we will proceed with using TV as our feature variable for Simple Linear Regression.\n",
    "\n",
    "A correlation matrix is a square matrix where each cell represents the correlation between two variables. A heat map is a visual representation of the correlation matrix that uses a color gradient to highlight the strength of the correlation between variables.\n",
    "\n",
    "The correlation coefficient is a measure of the strength and direction of the relationship between two variables. A correlation coefficient of 1 indicates a perfect positive correlation, while a coefficient of -1 indicates a perfect negative correlation. The correlation coefficient always falls within the range of [-1,1]."
   ]
  },
  {
   "cell_type": "markdown",
   "id": "4e4c93e4",
   "metadata": {},
   "source": [
    "# Hypothesis Testing in Linear Regression\n",
    "Before you move on to the model-building part, there is one theoretical aspect left to be addressed: \n",
    "\n",
    "The significance of the derived beta coefficient. When you fit a straight line through the data, you will obviously get the two parameters of the straight line, i.e., the intercept (β0) and the slope (β1). Now, while β0 is not of much importance right now, there are a few related aspects that need to be checked and verified. every time you perform a linear regression, you need to test whether the fitted line is significant or not, or to simply put it, you need to test whether β1 is significant or not. And here arrives the idea of hypothesis testing on β1.\n",
    "\n",
    "You start by saying that β1 is not significant, i.e. there is no relationship between X and y.\n",
    "\n",
    "So in order to perform the hypothesis test, you first propose the null hypothesis that β1 is 0. And the alternative hypothesis thus becomes β1 is not zero.\n",
    "\n",
    "Null Hypothesis (H0): β1=0\n",
    "Alternate Hypothesis (HA): β1≠0\n",
    "Let's first discuss the implications of this hypothesis test. If you fail to reject the null hypothesis, that would mean that β1 is zero, which would simply mean that β1 is insignificant and of no use in the model. Similarly, if you reject the null hypothesis, it would mean that β1 is not zero and the line fitted is a significant one. Now, in order to perform the hypothesis test, you need to derive the p-value for the given beta. If you're hazy on what p-value is and how it is calculated,\n",
    "\n",
    "* How you calculate p-value anyway:\n",
    "\n",
    "Calculate the value of the t-score for the mean point (in this case, zero, according to the null hypothesis \n",
    "that we have stated) on the distribution.\n",
    "Calculate the p-value from the cumulative probability for the given t-score using the t-table.\n",
    "Make the decision on the basis of the p-value with respect to the given value of β  (significance level)\n",
    "\n",
    "Now, if the p-value turns out to be less than 0.05, you can reject the null hypothesis and state that β1 is indeed significant.\n",
    "\n",
    "Please note that all of the above steps will be performed by Python automatically"
   ]
  },
  {
   "cell_type": "markdown",
   "id": "3a2e583a",
   "metadata": {},
   "source": [
    "## Step 3: Performing Simple Linear Regression."
   ]
  },
  {
   "cell_type": "raw",
   "id": "f55d65ea",
   "metadata": {},
   "source": [
    "Equation of linear regression   \n",
    "\n",
    "y = c + m1x1 + m2x2 + m3x3 + ... + mnxn\n",
    "\n",
    "y is the response variable(Prediction)\n",
    "c is the intercept.\n",
    "x1,x2 are the two independant variable. \n",
    "m1 is the regression coefficient for the first feature.\n",
    "mn is the regression coefficient for the nth feature.\n",
    "\n",
    "In our case:\n",
    "y = c + m1 x TV\n",
    "The m values are called the model coefficients or model parameters."
   ]
  },
  {
   "cell_type": "markdown",
   "id": "6316c9e4",
   "metadata": {},
   "source": [
    "# Steps in Model building using statsmodel\n",
    "We first assign the feature variable. \n",
    "TV in this case, to the variable x and the response variable Sales to the variable y."
   ]
  },
  {
   "cell_type": "code",
   "execution_count": 12,
   "id": "31c715fc",
   "metadata": {},
   "outputs": [],
   "source": [
    "x = advt_df['TV']\n",
    "\n",
    "y = advt_df['Sales']"
   ]
  },
  {
   "cell_type": "markdown",
   "id": "7a70d5df",
   "metadata": {},
   "source": [
    "# Train-Test Split\n",
    "* We now need to split our variable into training and testing sets. \n",
    "\n",
    "* We perform this by importing train_test_split from the sklearn.model_selection library. \n",
    "\n",
    "* It is usually a good practice to keep 70% of the data in your train dataset and the rest 30% in your test dataset"
   ]
  },
  {
   "cell_type": "code",
   "execution_count": 13,
   "id": "07f6e91f",
   "metadata": {},
   "outputs": [],
   "source": [
    "from sklearn.model_selection import train_test_split\n",
    "\n",
    "X_train, X_test, y_train, y_test = train_test_split(x,y, test_size=0.2, random_state=42)"
   ]
  },
  {
   "cell_type": "code",
   "execution_count": 14,
   "id": "814a5cef",
   "metadata": {},
   "outputs": [
    {
     "data": {
      "text/plain": [
       "79     116.0\n",
       "197    177.0\n",
       "38      43.1\n",
       "24      62.3\n",
       "122    224.0\n",
       "Name: TV, dtype: float64"
      ]
     },
     "execution_count": 14,
     "metadata": {},
     "output_type": "execute_result"
    }
   ],
   "source": [
    "X_train.head()"
   ]
  },
  {
   "cell_type": "code",
   "execution_count": 15,
   "id": "8f1af052",
   "metadata": {},
   "outputs": [
    {
     "data": {
      "text/plain": [
       "79     11.0\n",
       "197    14.8\n",
       "38     10.1\n",
       "24      9.7\n",
       "122    16.6\n",
       "Name: Sales, dtype: float64"
      ]
     },
     "execution_count": 15,
     "metadata": {},
     "output_type": "execute_result"
    }
   ],
   "source": [
    "y_train.head()"
   ]
  },
  {
   "cell_type": "markdown",
   "id": "4d06a83d",
   "metadata": {},
   "source": [
    "# Building Linear Model\n",
    "We need to first import the statsmodel.api library using which we will perform the linear regression."
   ]
  },
  {
   "cell_type": "code",
   "execution_count": 16,
   "id": "04ff707f",
   "metadata": {},
   "outputs": [],
   "source": [
    "import statsmodels.api as sm"
   ]
  },
  {
   "cell_type": "markdown",
   "id": "1cb74b1a",
   "metadata": {},
   "source": [
    "By default, the statsmodels library fits a line on the dataset which passes through the origin. \n",
    "But in order to have an intercept, you need to manually use the add_constant attribute of statsmodels. \n",
    "And once you've added the constant to your X_train dataset, you can go ahead and fit a regression line \n",
    "using the OLS (Ordinary Least Squares) attribute of statsmodels as shown below"
   ]
  },
  {
   "cell_type": "code",
   "execution_count": 17,
   "id": "8a8421b5",
   "metadata": {},
   "outputs": [
    {
     "name": "stdout",
     "output_type": "stream",
     "text": [
      "     const     TV\n",
      "79     1.0  116.0\n",
      "197    1.0  177.0\n",
      "38     1.0   43.1\n",
      "24     1.0   62.3\n",
      "122    1.0  224.0\n",
      "..     ...    ...\n",
      "106    1.0   25.0\n",
      "14     1.0  204.1\n",
      "92     1.0  217.7\n",
      "179    1.0  165.6\n",
      "102    1.0  280.2\n",
      "\n",
      "[160 rows x 2 columns]\n"
     ]
    }
   ],
   "source": [
    "# add a constant to get an intercept\n",
    "X_train_sm = sm.add_constant(X_train)\n",
    "print(X_train_sm)\n",
    "\n",
    "# fit the regression line using 'OLS'\n",
    "lr = sm.OLS(y_train, X_train_sm).fit()"
   ]
  },
  {
   "cell_type": "code",
   "execution_count": 18,
   "id": "74bd1181",
   "metadata": {},
   "outputs": [
    {
     "data": {
      "text/plain": [
       "const    7.007108\n",
       "TV       0.055483\n",
       "dtype: float64"
      ]
     },
     "execution_count": 18,
     "metadata": {},
     "output_type": "execute_result"
    }
   ],
   "source": [
    "# print the parameters i.e intercept and the slope of the regression line fitted.\n",
    "lr.params"
   ]
  },
  {
   "cell_type": "code",
   "execution_count": 19,
   "id": "78750f62",
   "metadata": {},
   "outputs": [
    {
     "name": "stdout",
     "output_type": "stream",
     "text": [
      "                            OLS Regression Results                            \n",
      "==============================================================================\n",
      "Dep. Variable:                  Sales   R-squared:                       0.813\n",
      "Model:                            OLS   Adj. R-squared:                  0.812\n",
      "Method:                 Least Squares   F-statistic:                     689.1\n",
      "Date:                Mon, 08 May 2023   Prob (F-statistic):           1.71e-59\n",
      "Time:                        11:21:36   Log-Likelihood:                -355.76\n",
      "No. Observations:                 160   AIC:                             715.5\n",
      "Df Residuals:                     158   BIC:                             721.7\n",
      "Df Model:                           1                                         \n",
      "Covariance Type:            nonrobust                                         \n",
      "==============================================================================\n",
      "                 coef    std err          t      P>|t|      [0.025      0.975]\n",
      "------------------------------------------------------------------------------\n",
      "const          7.0071      0.364     19.274      0.000       6.289       7.725\n",
      "TV             0.0555      0.002     26.251      0.000       0.051       0.060\n",
      "==============================================================================\n",
      "Omnibus:                        0.631   Durbin-Watson:                   2.262\n",
      "Prob(Omnibus):                  0.730   Jarque-Bera (JB):                0.767\n",
      "Skew:                          -0.110   Prob(JB):                        0.681\n",
      "Kurtosis:                       2.742   Cond. No.                         352.\n",
      "==============================================================================\n",
      "\n",
      "Notes:\n",
      "[1] Standard Errors assume that the covariance matrix of the errors is correctly specified.\n"
     ]
    }
   ],
   "source": [
    "print(lr.summary())"
   ]
  },
  {
   "cell_type": "raw",
   "id": "5635ec00",
   "metadata": {},
   "source": [
    "Statistics from the summary\n",
    "The values we are concerned with are :\n",
    "\n",
    "1) The coefficients and significance (p-values)\n",
    "2) R-squared\n",
    "3) F statistic and its significance\n",
    "_______________________________________________________________________________________________\n",
    "1) The coefficient for TV is 0.0555, with a very low p-value\n",
    "   The coefficient is statistically significant. So the association is not purely by chance.\n",
    "\n",
    "2) R-squared is 0.813\n",
    "   Meaning that 81.3% of the variance in Sales is explaining by TV This is descent R-squared value.\n",
    "\n",
    "3) F-statistic has a very low p-value(practically low)\n",
    "   Meaning that the model fit is statistically significantand the explained variance isn't purely by chance."
   ]
  },
  {
   "cell_type": "markdown",
   "id": "2c0bc512",
   "metadata": {},
   "source": [
    "### The fit is significant. Let us visualize how well the model fit the data.\n",
    "\n",
    "From the parameters that we get, our linear regression equation becomes:\n",
    "    \n",
    "Sales = 7.0071 + 0.055 x TV"
   ]
  },
  {
   "cell_type": "code",
   "execution_count": 20,
   "id": "b71504be",
   "metadata": {},
   "outputs": [
    {
     "data": {
      "image/png": "[encoded data removed]",
      "text/plain": [
       "<Figure size 432x288 with 1 Axes>"
      ]
     },
     "metadata": {
      "needs_background": "light"
     },
     "output_type": "display_data"
    }
   ],
   "source": [
    "plt.scatter(X_train, y_train)\n",
    "\n",
    "plt.plot(X_train, 7.0071 + 0.055 * X_train, 'r')\n",
    "\n",
    "plt.show()"
   ]
  },
  {
   "cell_type": "markdown",
   "id": "e0061ba4",
   "metadata": {},
   "source": [
    "## Step 4: Residual Analysis\n",
    "To validate assumptions of the model, and hence the reliability for inference\n",
    "\n",
    "Distribution of the error terms\n",
    "We need to check if the error terms are also normally distributed (which is infact, one of the major assumptions of linear regression), \n",
    "let us plot the histogram of the error terms and see what it looks like."
   ]
  },
  {
   "cell_type": "code",
   "execution_count": 21,
   "id": "ea240c92",
   "metadata": {},
   "outputs": [],
   "source": [
    "y_train_pred = lr.predict(X_train_sm) # predicted\n",
    "\n",
    "res = (y_train - y_train_pred)    # residuals = actual - predicted"
   ]
  },
  {
   "cell_type": "code",
   "execution_count": 22,
   "id": "ca6b2075",
   "metadata": {},
   "outputs": [
    {
     "data": {
      "image/png": "[encoded data removed]",
      "text/plain": [
       "<Figure size 432x288 with 1 Axes>"
      ]
     },
     "metadata": {
      "needs_background": "light"
     },
     "output_type": "display_data"
    }
   ],
   "source": [
    "fig = plt.figure()\n",
    "sns.distplot(res, bins = 15)\n",
    "fig.suptitle('Error Terms', fontsize= 15)\n",
    "\n",
    "plt.xlabel('y_train - y_train_pred', fontsize=15)\n",
    "plt.show()"
   ]
  },
  {
   "cell_type": "markdown",
   "id": "1b91eaa0",
   "metadata": {},
   "source": [
    "The residuals are normally distributed with a mean of 0, which indicates that everything is in order."
   ]
  },
  {
   "cell_type": "markdown",
   "id": "25140463",
   "metadata": {},
   "source": [
    "## Looking for patterns in the residuals."
   ]
  },
  {
   "cell_type": "code",
   "execution_count": 23,
   "id": "5eeac1bb",
   "metadata": {},
   "outputs": [
    {
     "data": {
      "image/png": "[encoded data removed]",
      "text/plain": [
       "<Figure size 432x288 with 1 Axes>"
      ]
     },
     "metadata": {
      "needs_background": "light"
     },
     "output_type": "display_data"
    }
   ],
   "source": [
    "plt.scatter(X_train, res)\n",
    "plt.show()"
   ]
  },
  {
   "cell_type": "markdown",
   "id": "c49a348f",
   "metadata": {},
   "source": [
    "We have reason to believe that the model fit is not due to chance and has some degree of predictive capability. \n",
    "The normal distribution of the residual terms permits some interpretation of the coefficients.\n",
    "\n",
    "However, the fact that the variance of the residuals increases with X suggests that there is substantial variability that this model cannot account for."
   ]
  },
  {
   "cell_type": "markdown",
   "id": "20f77d75",
   "metadata": {},
   "source": [
    "# Step 5: Predictions on the Test Set\n",
    "Now that you have fitted a regression line on your train dataset, it's time to make some predictions on the test data. \n",
    "\n",
    "For this, you first need to add a constant to the X_test data like you did for X_train and then you can simply go on and predict the y values corresponding to X_test using the predict attribute of the fitted regression line."
   ]
  },
  {
   "cell_type": "code",
   "execution_count": 24,
   "id": "f12b0d65",
   "metadata": {},
   "outputs": [],
   "source": [
    "# Add a constant to X_test\n",
    "X_test_sm = sm.add_constant(X_test)\n",
    "\n",
    "# Predict the y values corresponding to X_test_sm\n",
    "y_pred = lr.predict(X_test_sm)"
   ]
  },
  {
   "cell_type": "code",
   "execution_count": 25,
   "id": "b234300e",
   "metadata": {},
   "outputs": [
    {
     "data": {
      "text/plain": [
       "95     16.067473\n",
       "15     17.848476\n",
       "30     23.258063\n",
       "158     7.656259\n",
       "128    19.230001\n",
       "dtype: float64"
      ]
     },
     "execution_count": 25,
     "metadata": {},
     "output_type": "execute_result"
    }
   ],
   "source": [
    "y_pred.head()"
   ]
  },
  {
   "cell_type": "code",
   "execution_count": 26,
   "id": "fd7d1d8e",
   "metadata": {},
   "outputs": [],
   "source": [
    "from sklearn.metrics import mean_squared_error\n",
    "from sklearn.metrics import r2_score"
   ]
  },
  {
   "cell_type": "markdown",
   "id": "075ed286",
   "metadata": {},
   "source": [
    "## RMSE(Root Mean Squared Error)"
   ]
  },
  {
   "cell_type": "code",
   "execution_count": 27,
   "id": "e511c8ce",
   "metadata": {},
   "outputs": [
    {
     "data": {
      "text/plain": [
       "2.470035001123256"
      ]
     },
     "execution_count": 27,
     "metadata": {},
     "output_type": "execute_result"
    }
   ],
   "source": [
    "# Return the mean squared error\n",
    "np.sqrt(mean_squared_error(y_test, y_pred))"
   ]
  },
  {
   "cell_type": "markdown",
   "id": "18dcc402",
   "metadata": {},
   "source": [
    "## R-squared on test data"
   ]
  },
  {
   "cell_type": "code",
   "execution_count": 28,
   "id": "c3369e98",
   "metadata": {},
   "outputs": [
    {
     "data": {
      "text/plain": [
       "0.802561303423698"
      ]
     },
     "execution_count": 28,
     "metadata": {},
     "output_type": "execute_result"
    }
   ],
   "source": [
    "r_squared = r2_score(y_test, y_pred)\n",
    "r_squared"
   ]
  },
  {
   "cell_type": "markdown",
   "id": "4a12e70b",
   "metadata": {},
   "source": [
    "## Visualizing the fit on the test set"
   ]
  },
  {
   "cell_type": "code",
   "execution_count": 29,
   "id": "5e8efa20",
   "metadata": {},
   "outputs": [
    {
     "data": {
      "image/png": "[encoded data removed]",
      "text/plain": [
       "<Figure size 432x288 with 1 Axes>"
      ]
     },
     "metadata": {
      "needs_background": "light"
     },
     "output_type": "display_data"
    }
   ],
   "source": [
    "plt.scatter(X_test, y_test)\n",
    "plt.plot(X_test, 7.0071 + 0.055 * X_test, 'r')\n",
    "plt.show()"
   ]
  },
  {
   "cell_type": "markdown",
   "id": "2c1f1244",
   "metadata": {},
   "source": [
    "## Linear Regression using linear_model in sklearn"
   ]
  },
  {
   "cell_type": "markdown",
   "id": "84df8877",
   "metadata": {},
   "source": [
    "* Apart from statsmodels, there is another package namely sklearn that can be used to perform linear regression. \n",
    "\n",
    "* We will use the linear_model library from sklearn to build the model. \n",
    "\n",
    "* Since, we have already performed a train-test split, we don't need to do it again.\n",
    "\n",
    "* There's one small step that we need to add, though. When there's only a single feature.\n",
    "\n",
    "* we need to add an additional column in order for the linear regression fit to be performed successfully."
   ]
  },
  {
   "cell_type": "code",
   "execution_count": 30,
   "id": "23f17401",
   "metadata": {},
   "outputs": [],
   "source": [
    "X_train_lm, X_test_lm, y_train_lm, y_test_lm = train_test_split(x, y, test_size = 0.2, random_state = 100)"
   ]
  },
  {
   "cell_type": "code",
   "execution_count": 31,
   "id": "9e630099",
   "metadata": {},
   "outputs": [
    {
     "data": {
      "text/plain": [
       "(160,)"
      ]
     },
     "execution_count": 31,
     "metadata": {},
     "output_type": "execute_result"
    }
   ],
   "source": [
    "X_train_lm.shape"
   ]
  },
  {
   "cell_type": "code",
   "execution_count": 32,
   "id": "0f95d962",
   "metadata": {},
   "outputs": [
    {
     "ename": "ValueError",
     "evalue": "Expected 2D array, got 1D array instead:\narray=[215.4 175.7 164.5 218.5 120.2  89.7  16.9 248.8  70.6  38.2 202.5 171.3\n  75.1 131.1 210.7  44.5  17.2  25.6 197.6  85.7 213.4 151.5 205.  142.9\n 134.3  80.2 239.8  88.3  19.4 225.8 136.2  25.1  38.  172.5 109.8 240.1\n 232.1  66.1 218.4 234.5  23.8  67.8 296.4 141.3 175.1 220.5  76.4 253.8\n 191.1 287.6 100.4 228.  125.7  74.7  57.5 262.7 262.9 237.4 227.2 199.8\n 228.3 290.7 276.9 199.8 239.3  73.4 284.3 147.3 224.  198.9 276.7  13.2\n  11.7 280.2  39.5 265.6  27.5 280.7  78.2 163.3 213.5 293.6  18.7  75.5\n 166.8  44.7 109.8   8.7 266.9 206.9 149.8  19.6  36.9 199.1 265.2 165.6\n 140.3 230.1   5.4  17.9 237.4 286.   93.9 292.9  25.   97.5  26.8 281.4\n  69.2  43.1 255.4 239.9 209.6   7.3 240.1 102.7 243.2 137.9  18.8  17.2\n  76.4 139.5 261.3  66.9  48.3 177.   28.6 180.8 222.4 193.7  59.6 131.7\n   8.4  13.1   4.1   0.7  76.3 250.9 273.7  96.2 210.8  53.5  90.4 104.6\n 283.6  95.7 204.1  31.5 182.6 289.7 156.6 107.4  43.  248.4 116.  110.7\n 187.9 139.3  62.3   8.6].\nReshape your data either using array.reshape(-1, 1) if your data has a single feature or array.reshape(1, -1) if it contains a single sample.",
     "output_type": "error",
     "traceback": [
      "\u001b[1;31m---------------------------------------------------------------------------\u001b[0m",
      "\u001b[1;31mValueError\u001b[0m                                Traceback (most recent call last)",
      "Input \u001b[1;32mIn [32]\u001b[0m, in \u001b[0;36m<cell line: 4>\u001b[1;34m()\u001b[0m\n\u001b[0;32m      1\u001b[0m \u001b[38;5;28;01mfrom\u001b[39;00m \u001b[38;5;21;01msklearn\u001b[39;00m\u001b[38;5;21;01m.\u001b[39;00m\u001b[38;5;21;01mlinear_model\u001b[39;00m \u001b[38;5;28;01mimport\u001b[39;00m LinearRegression\n\u001b[0;32m      3\u001b[0m lm \u001b[38;5;241m=\u001b[39m LinearRegression()\n\u001b[1;32m----> 4\u001b[0m \u001b[43mlm\u001b[49m\u001b[38;5;241;43m.\u001b[39;49m\u001b[43mfit\u001b[49m\u001b[43m(\u001b[49m\u001b[43mX_train_lm\u001b[49m\u001b[43m,\u001b[49m\u001b[43m \u001b[49m\u001b[43my_train_lm\u001b[49m\u001b[43m)\u001b[49m\n",
      "File \u001b[1;32m~\\anaconda3\\lib\\site-packages\\sklearn\\linear_model\\_base.py:684\u001b[0m, in \u001b[0;36mLinearRegression.fit\u001b[1;34m(self, X, y, sample_weight)\u001b[0m\n\u001b[0;32m    680\u001b[0m n_jobs_ \u001b[38;5;241m=\u001b[39m \u001b[38;5;28mself\u001b[39m\u001b[38;5;241m.\u001b[39mn_jobs\n\u001b[0;32m    682\u001b[0m accept_sparse \u001b[38;5;241m=\u001b[39m \u001b[38;5;28;01mFalse\u001b[39;00m \u001b[38;5;28;01mif\u001b[39;00m \u001b[38;5;28mself\u001b[39m\u001b[38;5;241m.\u001b[39mpositive \u001b[38;5;28;01melse\u001b[39;00m [\u001b[38;5;124m\"\u001b[39m\u001b[38;5;124mcsr\u001b[39m\u001b[38;5;124m\"\u001b[39m, \u001b[38;5;124m\"\u001b[39m\u001b[38;5;124mcsc\u001b[39m\u001b[38;5;124m\"\u001b[39m, \u001b[38;5;124m\"\u001b[39m\u001b[38;5;124mcoo\u001b[39m\u001b[38;5;124m\"\u001b[39m]\n\u001b[1;32m--> 684\u001b[0m X, y \u001b[38;5;241m=\u001b[39m \u001b[38;5;28;43mself\u001b[39;49m\u001b[38;5;241;43m.\u001b[39;49m\u001b[43m_validate_data\u001b[49m\u001b[43m(\u001b[49m\n\u001b[0;32m    685\u001b[0m \u001b[43m    \u001b[49m\u001b[43mX\u001b[49m\u001b[43m,\u001b[49m\u001b[43m \u001b[49m\u001b[43my\u001b[49m\u001b[43m,\u001b[49m\u001b[43m \u001b[49m\u001b[43maccept_sparse\u001b[49m\u001b[38;5;241;43m=\u001b[39;49m\u001b[43maccept_sparse\u001b[49m\u001b[43m,\u001b[49m\u001b[43m \u001b[49m\u001b[43my_numeric\u001b[49m\u001b[38;5;241;43m=\u001b[39;49m\u001b[38;5;28;43;01mTrue\u001b[39;49;00m\u001b[43m,\u001b[49m\u001b[43m \u001b[49m\u001b[43mmulti_output\u001b[49m\u001b[38;5;241;43m=\u001b[39;49m\u001b[38;5;28;43;01mTrue\u001b[39;49;00m\n\u001b[0;32m    686\u001b[0m \u001b[43m\u001b[49m\u001b[43m)\u001b[49m\n\u001b[0;32m    688\u001b[0m sample_weight \u001b[38;5;241m=\u001b[39m _check_sample_weight(\n\u001b[0;32m    689\u001b[0m     sample_weight, X, dtype\u001b[38;5;241m=\u001b[39mX\u001b[38;5;241m.\u001b[39mdtype, only_non_negative\u001b[38;5;241m=\u001b[39m\u001b[38;5;28;01mTrue\u001b[39;00m\n\u001b[0;32m    690\u001b[0m )\n\u001b[0;32m    692\u001b[0m X, y, X_offset, y_offset, X_scale \u001b[38;5;241m=\u001b[39m _preprocess_data(\n\u001b[0;32m    693\u001b[0m     X,\n\u001b[0;32m    694\u001b[0m     y,\n\u001b[1;32m   (...)\u001b[0m\n\u001b[0;32m    698\u001b[0m     sample_weight\u001b[38;5;241m=\u001b[39msample_weight,\n\u001b[0;32m    699\u001b[0m )\n",
      "File \u001b[1;32m~\\anaconda3\\lib\\site-packages\\sklearn\\base.py:596\u001b[0m, in \u001b[0;36mBaseEstimator._validate_data\u001b[1;34m(self, X, y, reset, validate_separately, **check_params)\u001b[0m\n\u001b[0;32m    594\u001b[0m         y \u001b[38;5;241m=\u001b[39m check_array(y, input_name\u001b[38;5;241m=\u001b[39m\u001b[38;5;124m\"\u001b[39m\u001b[38;5;124my\u001b[39m\u001b[38;5;124m\"\u001b[39m, \u001b[38;5;241m*\u001b[39m\u001b[38;5;241m*\u001b[39mcheck_y_params)\n\u001b[0;32m    595\u001b[0m     \u001b[38;5;28;01melse\u001b[39;00m:\n\u001b[1;32m--> 596\u001b[0m         X, y \u001b[38;5;241m=\u001b[39m check_X_y(X, y, \u001b[38;5;241m*\u001b[39m\u001b[38;5;241m*\u001b[39mcheck_params)\n\u001b[0;32m    597\u001b[0m     out \u001b[38;5;241m=\u001b[39m X, y\n\u001b[0;32m    599\u001b[0m \u001b[38;5;28;01mif\u001b[39;00m \u001b[38;5;129;01mnot\u001b[39;00m no_val_X \u001b[38;5;129;01mand\u001b[39;00m check_params\u001b[38;5;241m.\u001b[39mget(\u001b[38;5;124m\"\u001b[39m\u001b[38;5;124mensure_2d\u001b[39m\u001b[38;5;124m\"\u001b[39m, \u001b[38;5;28;01mTrue\u001b[39;00m):\n",
      "File \u001b[1;32m~\\anaconda3\\lib\\site-packages\\sklearn\\utils\\validation.py:1074\u001b[0m, in \u001b[0;36mcheck_X_y\u001b[1;34m(X, y, accept_sparse, accept_large_sparse, dtype, order, copy, force_all_finite, ensure_2d, allow_nd, multi_output, ensure_min_samples, ensure_min_features, y_numeric, estimator)\u001b[0m\n\u001b[0;32m   1069\u001b[0m         estimator_name \u001b[38;5;241m=\u001b[39m _check_estimator_name(estimator)\n\u001b[0;32m   1070\u001b[0m     \u001b[38;5;28;01mraise\u001b[39;00m \u001b[38;5;167;01mValueError\u001b[39;00m(\n\u001b[0;32m   1071\u001b[0m         \u001b[38;5;124mf\u001b[39m\u001b[38;5;124m\"\u001b[39m\u001b[38;5;132;01m{\u001b[39;00mestimator_name\u001b[38;5;132;01m}\u001b[39;00m\u001b[38;5;124m requires y to be passed, but the target y is None\u001b[39m\u001b[38;5;124m\"\u001b[39m\n\u001b[0;32m   1072\u001b[0m     )\n\u001b[1;32m-> 1074\u001b[0m X \u001b[38;5;241m=\u001b[39m \u001b[43mcheck_array\u001b[49m\u001b[43m(\u001b[49m\n\u001b[0;32m   1075\u001b[0m \u001b[43m    \u001b[49m\u001b[43mX\u001b[49m\u001b[43m,\u001b[49m\n\u001b[0;32m   1076\u001b[0m \u001b[43m    \u001b[49m\u001b[43maccept_sparse\u001b[49m\u001b[38;5;241;43m=\u001b[39;49m\u001b[43maccept_sparse\u001b[49m\u001b[43m,\u001b[49m\n\u001b[0;32m   1077\u001b[0m \u001b[43m    \u001b[49m\u001b[43maccept_large_sparse\u001b[49m\u001b[38;5;241;43m=\u001b[39;49m\u001b[43maccept_large_sparse\u001b[49m\u001b[43m,\u001b[49m\n\u001b[0;32m   1078\u001b[0m \u001b[43m    \u001b[49m\u001b[43mdtype\u001b[49m\u001b[38;5;241;43m=\u001b[39;49m\u001b[43mdtype\u001b[49m\u001b[43m,\u001b[49m\n\u001b[0;32m   1079\u001b[0m \u001b[43m    \u001b[49m\u001b[43morder\u001b[49m\u001b[38;5;241;43m=\u001b[39;49m\u001b[43morder\u001b[49m\u001b[43m,\u001b[49m\n\u001b[0;32m   1080\u001b[0m \u001b[43m    \u001b[49m\u001b[43mcopy\u001b[49m\u001b[38;5;241;43m=\u001b[39;49m\u001b[43mcopy\u001b[49m\u001b[43m,\u001b[49m\n\u001b[0;32m   1081\u001b[0m \u001b[43m    \u001b[49m\u001b[43mforce_all_finite\u001b[49m\u001b[38;5;241;43m=\u001b[39;49m\u001b[43mforce_all_finite\u001b[49m\u001b[43m,\u001b[49m\n\u001b[0;32m   1082\u001b[0m \u001b[43m    \u001b[49m\u001b[43mensure_2d\u001b[49m\u001b[38;5;241;43m=\u001b[39;49m\u001b[43mensure_2d\u001b[49m\u001b[43m,\u001b[49m\n\u001b[0;32m   1083\u001b[0m \u001b[43m    \u001b[49m\u001b[43mallow_nd\u001b[49m\u001b[38;5;241;43m=\u001b[39;49m\u001b[43mallow_nd\u001b[49m\u001b[43m,\u001b[49m\n\u001b[0;32m   1084\u001b[0m \u001b[43m    \u001b[49m\u001b[43mensure_min_samples\u001b[49m\u001b[38;5;241;43m=\u001b[39;49m\u001b[43mensure_min_samples\u001b[49m\u001b[43m,\u001b[49m\n\u001b[0;32m   1085\u001b[0m \u001b[43m    \u001b[49m\u001b[43mensure_min_features\u001b[49m\u001b[38;5;241;43m=\u001b[39;49m\u001b[43mensure_min_features\u001b[49m\u001b[43m,\u001b[49m\n\u001b[0;32m   1086\u001b[0m \u001b[43m    \u001b[49m\u001b[43mestimator\u001b[49m\u001b[38;5;241;43m=\u001b[39;49m\u001b[43mestimator\u001b[49m\u001b[43m,\u001b[49m\n\u001b[0;32m   1087\u001b[0m \u001b[43m    \u001b[49m\u001b[43minput_name\u001b[49m\u001b[38;5;241;43m=\u001b[39;49m\u001b[38;5;124;43m\"\u001b[39;49m\u001b[38;5;124;43mX\u001b[39;49m\u001b[38;5;124;43m\"\u001b[39;49m\u001b[43m,\u001b[49m\n\u001b[0;32m   1088\u001b[0m \u001b[43m\u001b[49m\u001b[43m)\u001b[49m\n\u001b[0;32m   1090\u001b[0m y \u001b[38;5;241m=\u001b[39m _check_y(y, multi_output\u001b[38;5;241m=\u001b[39mmulti_output, y_numeric\u001b[38;5;241m=\u001b[39my_numeric, estimator\u001b[38;5;241m=\u001b[39mestimator)\n\u001b[0;32m   1092\u001b[0m check_consistent_length(X, y)\n",
      "File \u001b[1;32m~\\anaconda3\\lib\\site-packages\\sklearn\\utils\\validation.py:879\u001b[0m, in \u001b[0;36mcheck_array\u001b[1;34m(array, accept_sparse, accept_large_sparse, dtype, order, copy, force_all_finite, ensure_2d, allow_nd, ensure_min_samples, ensure_min_features, estimator, input_name)\u001b[0m\n\u001b[0;32m    877\u001b[0m     \u001b[38;5;66;03m# If input is 1D raise error\u001b[39;00m\n\u001b[0;32m    878\u001b[0m     \u001b[38;5;28;01mif\u001b[39;00m array\u001b[38;5;241m.\u001b[39mndim \u001b[38;5;241m==\u001b[39m \u001b[38;5;241m1\u001b[39m:\n\u001b[1;32m--> 879\u001b[0m         \u001b[38;5;28;01mraise\u001b[39;00m \u001b[38;5;167;01mValueError\u001b[39;00m(\n\u001b[0;32m    880\u001b[0m             \u001b[38;5;124m\"\u001b[39m\u001b[38;5;124mExpected 2D array, got 1D array instead:\u001b[39m\u001b[38;5;130;01m\\n\u001b[39;00m\u001b[38;5;124marray=\u001b[39m\u001b[38;5;132;01m{}\u001b[39;00m\u001b[38;5;124m.\u001b[39m\u001b[38;5;130;01m\\n\u001b[39;00m\u001b[38;5;124m\"\u001b[39m\n\u001b[0;32m    881\u001b[0m             \u001b[38;5;124m\"\u001b[39m\u001b[38;5;124mReshape your data either using array.reshape(-1, 1) if \u001b[39m\u001b[38;5;124m\"\u001b[39m\n\u001b[0;32m    882\u001b[0m             \u001b[38;5;124m\"\u001b[39m\u001b[38;5;124myour data has a single feature or array.reshape(1, -1) \u001b[39m\u001b[38;5;124m\"\u001b[39m\n\u001b[0;32m    883\u001b[0m             \u001b[38;5;124m\"\u001b[39m\u001b[38;5;124mif it contains a single sample.\u001b[39m\u001b[38;5;124m\"\u001b[39m\u001b[38;5;241m.\u001b[39mformat(array)\n\u001b[0;32m    884\u001b[0m         )\n\u001b[0;32m    886\u001b[0m \u001b[38;5;28;01mif\u001b[39;00m dtype_numeric \u001b[38;5;129;01mand\u001b[39;00m array\u001b[38;5;241m.\u001b[39mdtype\u001b[38;5;241m.\u001b[39mkind \u001b[38;5;129;01min\u001b[39;00m \u001b[38;5;124m\"\u001b[39m\u001b[38;5;124mUSV\u001b[39m\u001b[38;5;124m\"\u001b[39m:\n\u001b[0;32m    887\u001b[0m     \u001b[38;5;28;01mraise\u001b[39;00m \u001b[38;5;167;01mValueError\u001b[39;00m(\n\u001b[0;32m    888\u001b[0m         \u001b[38;5;124m\"\u001b[39m\u001b[38;5;124mdtype=\u001b[39m\u001b[38;5;124m'\u001b[39m\u001b[38;5;124mnumeric\u001b[39m\u001b[38;5;124m'\u001b[39m\u001b[38;5;124m is not compatible with arrays of bytes/strings.\u001b[39m\u001b[38;5;124m\"\u001b[39m\n\u001b[0;32m    889\u001b[0m         \u001b[38;5;124m\"\u001b[39m\u001b[38;5;124mConvert your data to numeric values explicitly instead.\u001b[39m\u001b[38;5;124m\"\u001b[39m\n\u001b[0;32m    890\u001b[0m     )\n",
      "\u001b[1;31mValueError\u001b[0m: Expected 2D array, got 1D array instead:\narray=[215.4 175.7 164.5 218.5 120.2  89.7  16.9 248.8  70.6  38.2 202.5 171.3\n  75.1 131.1 210.7  44.5  17.2  25.6 197.6  85.7 213.4 151.5 205.  142.9\n 134.3  80.2 239.8  88.3  19.4 225.8 136.2  25.1  38.  172.5 109.8 240.1\n 232.1  66.1 218.4 234.5  23.8  67.8 296.4 141.3 175.1 220.5  76.4 253.8\n 191.1 287.6 100.4 228.  125.7  74.7  57.5 262.7 262.9 237.4 227.2 199.8\n 228.3 290.7 276.9 199.8 239.3  73.4 284.3 147.3 224.  198.9 276.7  13.2\n  11.7 280.2  39.5 265.6  27.5 280.7  78.2 163.3 213.5 293.6  18.7  75.5\n 166.8  44.7 109.8   8.7 266.9 206.9 149.8  19.6  36.9 199.1 265.2 165.6\n 140.3 230.1   5.4  17.9 237.4 286.   93.9 292.9  25.   97.5  26.8 281.4\n  69.2  43.1 255.4 239.9 209.6   7.3 240.1 102.7 243.2 137.9  18.8  17.2\n  76.4 139.5 261.3  66.9  48.3 177.   28.6 180.8 222.4 193.7  59.6 131.7\n   8.4  13.1   4.1   0.7  76.3 250.9 273.7  96.2 210.8  53.5  90.4 104.6\n 283.6  95.7 204.1  31.5 182.6 289.7 156.6 107.4  43.  248.4 116.  110.7\n 187.9 139.3  62.3   8.6].\nReshape your data either using array.reshape(-1, 1) if your data has a single feature or array.reshape(1, -1) if it contains a single sample."
     ]
    }
   ],
   "source": [
    "from sklearn.linear_model import LinearRegression\n",
    "\n",
    "lm = LinearRegression()\n",
    "lm.fit(X_train_lm, y_train_lm)"
   ]
  },
  {
   "cell_type": "raw",
   "id": "e56d52be",
   "metadata": {},
   "source": [
    "You saw that shape of X_train_lm is (160,) but regression expects (160,1).\n",
    "\n",
    "Note that your model is expecting a 2D array, failing which you get an error. \n",
    "\n",
    "Therefore, in this case, you need to reshape your variables X_train and X_test into X_train_lm and X_test_lm using the following code:"
   ]
  },
  {
   "cell_type": "code",
   "execution_count": 33,
   "id": "e3c48f43",
   "metadata": {},
   "outputs": [],
   "source": [
    "X_train_lm = X_train_lm.values.reshape(-1,1)\n",
    "\n",
    "X_test_lm = X_test_lm.values.reshape(-1,1)"
   ]
  },
  {
   "cell_type": "code",
   "execution_count": 34,
   "id": "66fa2aa9",
   "metadata": {},
   "outputs": [
    {
     "name": "stdout",
     "output_type": "stream",
     "text": [
      "(160, 1)\n",
      "(160,)\n",
      "(40, 1)\n",
      "(40,)\n"
     ]
    }
   ],
   "source": [
    "print(X_train_lm.shape)\n",
    "print(y_train_lm.shape)\n",
    "print(X_test_lm.shape)\n",
    "print(y_test_lm.shape)"
   ]
  },
  {
   "cell_type": "code",
   "execution_count": 35,
   "id": "7852ecf6",
   "metadata": {},
   "outputs": [
    {
     "data": {
      "text/html": [
       "<style>#sk-container-id-1 {color: black;background-color: white;}#sk-container-id-1 pre{padding: 0;}#sk-container-id-1 div.sk-toggleable {background-color: white;}#sk-container-id-1 label.sk-toggleable__label {cursor: pointer;display: block;width: 100%;margin-bottom: 0;padding: 0.3em;box-sizing: border-box;text-align: center;}#sk-container-id-1 label.sk-toggleable__label-arrow:before {content: \"▸\";float: left;margin-right: 0.25em;color: #696969;}#sk-container-id-1 label.sk-toggleable__label-arrow:hover:before {color: black;}#sk-container-id-1 div.sk-estimator:hover label.sk-toggleable__label-arrow:before {color: black;}#sk-container-id-1 div.sk-toggleable__content {max-height: 0;max-width: 0;overflow: hidden;text-align: left;background-color: #f0f8ff;}#sk-container-id-1 div.sk-toggleable__content pre {margin: 0.2em;color: black;border-radius: 0.25em;background-color: #f0f8ff;}#sk-container-id-1 input.sk-toggleable__control:checked~div.sk-toggleable__content {max-height: 200px;max-width: 100%;overflow: auto;}#sk-container-id-1 input.sk-toggleable__control:checked~label.sk-toggleable__label-arrow:before {content: \"▾\";}#sk-container-id-1 div.sk-estimator input.sk-toggleable__control:checked~label.sk-toggleable__label {background-color: #d4ebff;}#sk-container-id-1 div.sk-label input.sk-toggleable__control:checked~label.sk-toggleable__label {background-color: #d4ebff;}#sk-container-id-1 input.sk-hidden--visually {border: 0;clip: rect(1px 1px 1px 1px);clip: rect(1px, 1px, 1px, 1px);height: 1px;margin: -1px;overflow: hidden;padding: 0;position: absolute;width: 1px;}#sk-container-id-1 div.sk-estimator {font-family: monospace;background-color: #f0f8ff;border: 1px dotted black;border-radius: 0.25em;box-sizing: border-box;margin-bottom: 0.5em;}#sk-container-id-1 div.sk-estimator:hover {background-color: #d4ebff;}#sk-container-id-1 div.sk-parallel-item::after {content: \"\";width: 100%;border-bottom: 1px solid gray;flex-grow: 1;}#sk-container-id-1 div.sk-label:hover label.sk-toggleable__label {background-color: #d4ebff;}#sk-container-id-1 div.sk-serial::before {content: \"\";position: absolute;border-left: 1px solid gray;box-sizing: border-box;top: 0;bottom: 0;left: 50%;z-index: 0;}#sk-container-id-1 div.sk-serial {display: flex;flex-direction: column;align-items: center;background-color: white;padding-right: 0.2em;padding-left: 0.2em;position: relative;}#sk-container-id-1 div.sk-item {position: relative;z-index: 1;}#sk-container-id-1 div.sk-parallel {display: flex;align-items: stretch;justify-content: center;background-color: white;position: relative;}#sk-container-id-1 div.sk-item::before, #sk-container-id-1 div.sk-parallel-item::before {content: \"\";position: absolute;border-left: 1px solid gray;box-sizing: border-box;top: 0;bottom: 0;left: 50%;z-index: -1;}#sk-container-id-1 div.sk-parallel-item {display: flex;flex-direction: column;z-index: 1;position: relative;background-color: white;}#sk-container-id-1 div.sk-parallel-item:first-child::after {align-self: flex-end;width: 50%;}#sk-container-id-1 div.sk-parallel-item:last-child::after {align-self: flex-start;width: 50%;}#sk-container-id-1 div.sk-parallel-item:only-child::after {width: 0;}#sk-container-id-1 div.sk-dashed-wrapped {border: 1px dashed gray;margin: 0 0.4em 0.5em 0.4em;box-sizing: border-box;padding-bottom: 0.4em;background-color: white;}#sk-container-id-1 div.sk-label label {font-family: monospace;font-weight: bold;display: inline-block;line-height: 1.2em;}#sk-container-id-1 div.sk-label-container {text-align: center;}#sk-container-id-1 div.sk-container {/* jupyter's `normalize.less` sets `[hidden] { display: none; }` but bootstrap.min.css set `[hidden] { display: none !important; }` so we also need the `!important` here to be able to override the default hidden behavior on the sphinx rendered scikit-learn.org. See: https://github.com/scikit-learn/scikit-learn/issues/21755 */display: inline-block !important;position: relative;}#sk-container-id-1 div.sk-text-repr-fallback {display: none;}</style><div id=\"sk-container-id-1\" class=\"sk-top-container\"><div class=\"sk-text-repr-fallback\"><pre>LinearRegression()</pre><b>In a Jupyter environment, please rerun this cell to show the HTML representation or trust the notebook. <br />On GitHub, the HTML representation is unable to render, please try loading this page with nbviewer.org.</b></div><div class=\"sk-container\" hidden><div class=\"sk-item\"><div class=\"sk-estimator sk-toggleable\"><input class=\"sk-toggleable__control sk-hidden--visually\" id=\"sk-estimator-id-1\" type=\"checkbox\" checked><label for=\"sk-estimator-id-1\" class=\"sk-toggleable__label sk-toggleable__label-arrow\">LinearRegression</label><div class=\"sk-toggleable__content\"><pre>LinearRegression()</pre></div></div></div></div></div>"
      ],
      "text/plain": [
       "LinearRegression()"
      ]
     },
     "execution_count": 35,
     "metadata": {},
     "output_type": "execute_result"
    }
   ],
   "source": [
    "from sklearn.linear_model import LinearRegression\n",
    "\n",
    "# Representing LinearRegression as lr(Creating LinearRegression Object)\n",
    "lm = LinearRegression()\n",
    "\n",
    "# fit the model using lr.fit()\n",
    "lm.fit(X_train_lm, y_train_lm)"
   ]
  },
  {
   "cell_type": "code",
   "execution_count": 36,
   "id": "4bf0b8cd",
   "metadata": {},
   "outputs": [
    {
     "name": "stdout",
     "output_type": "stream",
     "text": [
      "6.995532914307688\n",
      "[0.05410548]\n"
     ]
    }
   ],
   "source": [
    "print(lm.intercept_)\n",
    "print(lm.coef_)"
   ]
  },
  {
   "cell_type": "raw",
   "id": "324e7440",
   "metadata": {},
   "source": [
    "The equationwe get is the same as what we got before!\n",
    "Sales = 6.995532914307688 + 0.05410548 * TV\n",
    "\n",
    "Sklearn linear model is useful as it is compatible with a lot of sklearn utilites (cross validation, grid search etc.)\n",
    "\n",
    "While the true benefits of scaling will be apparent during future modules if it has an impact on the model.\n",
    "\n",
    "We will rebuild the model after scaling the predictor and see what changes.\n",
    "The most popular methods for scaling:\n",
    "1) Min-Max Scaling.\n",
    "2) Standard Scaling."
   ]
  },
  {
   "cell_type": "code",
   "execution_count": 38,
   "id": "d647c07a",
   "metadata": {},
   "outputs": [],
   "source": [
    "X_train, X_test, y_train, y_test = train_test_split(x, y, test_size = 0.3, random_state = 100)"
   ]
  },
  {
   "cell_type": "code",
   "execution_count": 39,
   "id": "95de433b",
   "metadata": {},
   "outputs": [],
   "source": [
    "from sklearn.preprocessing import StandardScaler, MinMaxScaler"
   ]
  },
  {
   "cell_type": "code",
   "execution_count": 40,
   "id": "cffe71e5",
   "metadata": {},
   "outputs": [],
   "source": [
    "# One aspect that you need to take care of is that the 'fit_transform' can be performed on 2D arrays only. \n",
    "# So we need to reshape your 'X_train_scaled' and 'y_trained_scaled' data in order to perform the standardisation.\n",
    "\n",
    "X_train_scaled = X_train.values.reshape(-1,1)\n",
    "y_train_scaled = y_train.values.reshape(-1,1)"
   ]
  },
  {
   "cell_type": "code",
   "execution_count": 41,
   "id": "1e767366",
   "metadata": {},
   "outputs": [
    {
     "data": {
      "text/plain": [
       "(140, 1)"
      ]
     },
     "execution_count": 41,
     "metadata": {},
     "output_type": "execute_result"
    }
   ],
   "source": [
    "X_train_scaled.shape"
   ]
  },
  {
   "cell_type": "code",
   "execution_count": 42,
   "id": "44ee8f02",
   "metadata": {},
   "outputs": [],
   "source": [
    "# Create a scaler object using StandardScaler()\n",
    "scaler = StandardScaler()\n",
    "\n",
    "#'Fit' and transform the train set and transform using the fit on the test set later.\n",
    "X_train_scaled = scaler.fit_transform(X_train_scaled)\n",
    "y_train_scaled = scaler.fit_transform(y_train_scaled)"
   ]
  },
  {
   "cell_type": "code",
   "execution_count": 43,
   "id": "224bd0c8",
   "metadata": {},
   "outputs": [
    {
     "name": "stdout",
     "output_type": "stream",
     "text": [
      "mean and sd for X_train_scaled:2.5376526277146434e-17 0.9999999999999999\n",
      "mean and sd for y_train_scaled: -2.5376526277146434e-161.0\n"
     ]
    }
   ],
   "source": [
    "print(f\"mean and sd for X_train_scaled:{np.mean(X_train_scaled)} {np.std(X_train_scaled)}\")\n",
    "print(f\"mean and sd for y_train_scaled: {np.mean(y_train_scaled)}{np.std(y_train_scaled)}\")"
   ]
  },
  {
   "cell_type": "code",
   "execution_count": 44,
   "id": "e390949b",
   "metadata": {},
   "outputs": [],
   "source": [
    "# Let us fit the regression line following exactly the same steps as done before.\n",
    "X_train_scaled = sm.add_constant(X_train_scaled)\n",
    "\n",
    "lr_scaled = sm.OLS(y_train_scaled, X_train_scaled).fit()"
   ]
  },
  {
   "cell_type": "code",
   "execution_count": 45,
   "id": "5932f4f9",
   "metadata": {},
   "outputs": [
    {
     "data": {
      "text/plain": [
       "array([-2.91433544e-16,  9.03212773e-01])"
      ]
     },
     "execution_count": 45,
     "metadata": {},
     "output_type": "execute_result"
    }
   ],
   "source": [
    "# Check the parameters\n",
    "lr_scaled.params"
   ]
  },
  {
   "cell_type": "code",
   "execution_count": 46,
   "id": "14a9b33d",
   "metadata": {},
   "outputs": [
    {
     "name": "stdout",
     "output_type": "stream",
     "text": [
      "                            OLS Regression Results                            \n",
      "==============================================================================\n",
      "Dep. Variable:                      y   R-squared:                       0.816\n",
      "Model:                            OLS   Adj. R-squared:                  0.814\n",
      "Method:                 Least Squares   F-statistic:                     611.2\n",
      "Date:                Mon, 08 May 2023   Prob (F-statistic):           1.52e-52\n",
      "Time:                        11:50:46   Log-Likelihood:                -80.233\n",
      "No. Observations:                 140   AIC:                             164.5\n",
      "Df Residuals:                     138   BIC:                             170.3\n",
      "Df Model:                           1                                         \n",
      "Covariance Type:            nonrobust                                         \n",
      "==============================================================================\n",
      "                 coef    std err          t      P>|t|      [0.025      0.975]\n",
      "------------------------------------------------------------------------------\n",
      "const      -2.914e-16      0.037  -7.98e-15      1.000      -0.072       0.072\n",
      "x1             0.9032      0.037     24.722      0.000       0.831       0.975\n",
      "==============================================================================\n",
      "Omnibus:                        0.027   Durbin-Watson:                   2.196\n",
      "Prob(Omnibus):                  0.987   Jarque-Bera (JB):                0.150\n",
      "Skew:                          -0.006   Prob(JB):                        0.928\n",
      "Kurtosis:                       2.840   Cond. No.                         1.00\n",
      "==============================================================================\n",
      "\n",
      "Notes:\n",
      "[1] Standard Errors assume that the covariance matrix of the errors is correctly specified.\n"
     ]
    }
   ],
   "source": [
    "print(lr_scaled.summary())"
   ]
  },
  {
   "cell_type": "markdown",
   "id": "6d840b37",
   "metadata": {},
   "source": [
    "***Model statistics and goodness of fit remain unchanged.\n",
    "So why scale at all?**\n",
    "* Helps with interpretation (we will be able to appreciate this better in later modules)\n",
    "* Faster convergence of gradient descent."
   ]
  }
 ],
 "metadata": {
  "kernelspec": {
   "display_name": "Python 3 (ipykernel)",
   "language": "python",
   "name": "python3"
  },
  "language_info": {
   "codemirror_mode": {
    "name": "ipython",
    "version": 3
   },
   "file_extension": ".py",
   "mimetype": "text/x-python",
   "name": "python",
   "nbconvert_exporter": "python",
   "pygments_lexer": "ipython3",
   "version": "3.9.12"
  }
 },
 "nbformat": 4,
 "nbformat_minor": 5
}
